{
 "cells": [
  {
   "cell_type": "markdown",
   "metadata": {},
   "source": [
    "### The Case of the Sloppy Scribe:\n",
    "### Classical Measurement Error\n",
    "**Kenneth Flamm**\n",
    "\n",
    "*October 2019*\n",
    "\n",
    "> Let's start with our eco apple survey data set"
   ]
  },
  {
   "cell_type": "code",
   "execution_count": 1,
   "metadata": {},
   "outputs": [
    {
     "name": "stdout",
     "output_type": "stream",
     "text": [
      "Python version: 3.7.6 (default, Jan  8 2020, 20:23:39) [MSC v.1916 64 bit (AMD64)]\n",
      "Pandas version:  1.0.1\n",
      "Today:  2020-04-08\n"
     ]
    }
   ],
   "source": [
    "import sys                         # import operating system functions\n",
    "import numpy as np                  # pandas uses numpy, and sometimes want to use numpy within pandas\n",
    "import pandas as pd                    # data package, redundant since already did\n",
    "import matplotlib.pyplot as plt               # graphics package, just the part we mainly use\n",
    "import seaborn as sns               # makes matplotlib prettier without issuing a single command!\n",
    "import datetime as dt                  # date and time module, often need to use if date is a field in your data\n",
    "\n",
    "# check versions (overkill, but why not?)\n",
    "print('Python version:', sys.version)\n",
    "print('Pandas version: ', pd.__version__)\n",
    "# print ('Matplotlib version:',matplotlib.__version__) #command not in the pyplot piece of matplotlib, would need to import entire package\n",
    "print('Today: ', dt.date.today())"
   ]
  },
  {
   "cell_type": "code",
   "execution_count": 2,
   "metadata": {},
   "outputs": [
    {
     "data": {
      "text/html": [
       "<div>\n",
       "<style scoped>\n",
       "    .dataframe tbody tr th:only-of-type {\n",
       "        vertical-align: middle;\n",
       "    }\n",
       "\n",
       "    .dataframe tbody tr th {\n",
       "        vertical-align: top;\n",
       "    }\n",
       "\n",
       "    .dataframe thead th {\n",
       "        text-align: right;\n",
       "    }\n",
       "</style>\n",
       "<table border=\"1\" class=\"dataframe\">\n",
       "  <thead>\n",
       "    <tr style=\"text-align: right;\">\n",
       "      <th></th>\n",
       "      <th>id</th>\n",
       "      <th>educ</th>\n",
       "      <th>date</th>\n",
       "      <th>state</th>\n",
       "      <th>regprc</th>\n",
       "      <th>ecoprc</th>\n",
       "      <th>inseason</th>\n",
       "      <th>hhsize</th>\n",
       "      <th>male</th>\n",
       "      <th>faminc</th>\n",
       "      <th>age</th>\n",
       "      <th>reglbs</th>\n",
       "      <th>ecolbs</th>\n",
       "      <th>numlt5</th>\n",
       "      <th>num5_17</th>\n",
       "      <th>num18_64</th>\n",
       "      <th>numgt64</th>\n",
       "    </tr>\n",
       "  </thead>\n",
       "  <tbody>\n",
       "    <tr>\n",
       "      <th>655</th>\n",
       "      <td>13892</td>\n",
       "      <td>14</td>\n",
       "      <td>20298</td>\n",
       "      <td>MD</td>\n",
       "      <td>0.59</td>\n",
       "      <td>0.59</td>\n",
       "      <td>0</td>\n",
       "      <td>5</td>\n",
       "      <td>0</td>\n",
       "      <td>65</td>\n",
       "      <td>37</td>\n",
       "      <td>1.333333</td>\n",
       "      <td>1.333333</td>\n",
       "      <td>1</td>\n",
       "      <td>2</td>\n",
       "      <td>2</td>\n",
       "      <td>0</td>\n",
       "    </tr>\n",
       "    <tr>\n",
       "      <th>656</th>\n",
       "      <td>13893</td>\n",
       "      <td>16</td>\n",
       "      <td>20398</td>\n",
       "      <td>OH</td>\n",
       "      <td>0.59</td>\n",
       "      <td>0.59</td>\n",
       "      <td>0</td>\n",
       "      <td>4</td>\n",
       "      <td>0</td>\n",
       "      <td>65</td>\n",
       "      <td>47</td>\n",
       "      <td>0.000000</td>\n",
       "      <td>2.000000</td>\n",
       "      <td>0</td>\n",
       "      <td>2</td>\n",
       "      <td>2</td>\n",
       "      <td>0</td>\n",
       "    </tr>\n",
       "    <tr>\n",
       "      <th>657</th>\n",
       "      <td>13908</td>\n",
       "      <td>16</td>\n",
       "      <td>20398</td>\n",
       "      <td>IN</td>\n",
       "      <td>0.89</td>\n",
       "      <td>1.09</td>\n",
       "      <td>0</td>\n",
       "      <td>2</td>\n",
       "      <td>0</td>\n",
       "      <td>75</td>\n",
       "      <td>51</td>\n",
       "      <td>1.000000</td>\n",
       "      <td>0.000000</td>\n",
       "      <td>0</td>\n",
       "      <td>0</td>\n",
       "      <td>2</td>\n",
       "      <td>0</td>\n",
       "    </tr>\n",
       "    <tr>\n",
       "      <th>658</th>\n",
       "      <td>13916</td>\n",
       "      <td>12</td>\n",
       "      <td>20298</td>\n",
       "      <td>NY</td>\n",
       "      <td>0.59</td>\n",
       "      <td>0.59</td>\n",
       "      <td>0</td>\n",
       "      <td>1</td>\n",
       "      <td>0</td>\n",
       "      <td>15</td>\n",
       "      <td>45</td>\n",
       "      <td>0.000000</td>\n",
       "      <td>2.666667</td>\n",
       "      <td>0</td>\n",
       "      <td>0</td>\n",
       "      <td>1</td>\n",
       "      <td>0</td>\n",
       "    </tr>\n",
       "    <tr>\n",
       "      <th>659</th>\n",
       "      <td>13921</td>\n",
       "      <td>18</td>\n",
       "      <td>20798</td>\n",
       "      <td>MA</td>\n",
       "      <td>1.19</td>\n",
       "      <td>1.39</td>\n",
       "      <td>0</td>\n",
       "      <td>3</td>\n",
       "      <td>1</td>\n",
       "      <td>25</td>\n",
       "      <td>24</td>\n",
       "      <td>2.000000</td>\n",
       "      <td>0.000000</td>\n",
       "      <td>0</td>\n",
       "      <td>0</td>\n",
       "      <td>3</td>\n",
       "      <td>0</td>\n",
       "    </tr>\n",
       "  </tbody>\n",
       "</table>\n",
       "</div>"
      ],
      "text/plain": [
       "        id  educ   date state  regprc  ecoprc  inseason  hhsize  male  faminc  \\\n",
       "655  13892    14  20298    MD    0.59    0.59         0       5     0      65   \n",
       "656  13893    16  20398    OH    0.59    0.59         0       4     0      65   \n",
       "657  13908    16  20398    IN    0.89    1.09         0       2     0      75   \n",
       "658  13916    12  20298    NY    0.59    0.59         0       1     0      15   \n",
       "659  13921    18  20798    MA    1.19    1.39         0       3     1      25   \n",
       "\n",
       "     age    reglbs    ecolbs  numlt5  num5_17  num18_64  numgt64  \n",
       "655   37  1.333333  1.333333       1        2         2        0  \n",
       "656   47  0.000000  2.000000       0        2         2        0  \n",
       "657   51  1.000000  0.000000       0        0         2        0  \n",
       "658   45  0.000000  2.666667       0        0         1        0  \n",
       "659   24  2.000000  0.000000       0        0         3        0  "
      ]
     },
     "execution_count": 2,
     "metadata": {},
     "output_type": "execute_result"
    }
   ],
   "source": [
    "#use apple.data\n",
    "apdf=pd.read_stata('http://fmwww.bc.edu/ec-p/data/wooldridge/apple.dta')\n",
    "apdf.tail()"
   ]
  },
  {
   "cell_type": "markdown",
   "metadata": {},
   "source": [
    "### The Case of the Sloppy Scribe\n",
    "\n",
    "* Suppose the person recording the data erroneously and randomly added a pound of eco apples to eco apple consumption half the time, creating measurement error in the dependent variable. This will inflate the expected quantity of apples purchased by (on average) .5 lbs, an increase that is independent of all explanatory variables.\n",
    "\n",
    "* Suppose the same person also randomly added or subtracted .50 from the eco apple price, creating a measurement error in the explanatory eco apple price data. This measurement error will create a correlation between the observed, noisy, explanatory variable and components of the disturbance term in the regression model. (See Wooldridge, chapter 9.) Explanatory variables that are correlated with unobservable factors in the disturbance term of the regression model are called ***endogeneous*** variables.\n",
    "\n",
    "* What are the effects of these two kinds of errors on the estimated coefficient of eco apple price?"
   ]
  },
  {
   "cell_type": "code",
   "execution_count": 3,
   "metadata": {},
   "outputs": [
    {
     "data": {
      "text/html": [
       "<table class=\"simpletable\">\n",
       "<caption>OLS Regression Results</caption>\n",
       "<tr>\n",
       "  <th>Dep. Variable:</th>         <td>ecolbs</td>      <th>  R-squared:         </th> <td>   0.036</td>\n",
       "</tr>\n",
       "<tr>\n",
       "  <th>Model:</th>                   <td>OLS</td>       <th>  Adj. R-squared:    </th> <td>   0.033</td>\n",
       "</tr>\n",
       "<tr>\n",
       "  <th>Method:</th>             <td>Least Squares</td>  <th>  F-statistic:       </th> <td>   12.41</td>\n",
       "</tr>\n",
       "<tr>\n",
       "  <th>Date:</th>             <td>Wed, 08 Apr 2020</td> <th>  Prob (F-statistic):</th> <td>5.11e-06</td>\n",
       "</tr>\n",
       "<tr>\n",
       "  <th>Time:</th>                 <td>14:55:44</td>     <th>  Log-Likelihood:    </th> <td> -1535.3</td>\n",
       "</tr>\n",
       "<tr>\n",
       "  <th>No. Observations:</th>      <td>   660</td>      <th>  AIC:               </th> <td>   3077.</td>\n",
       "</tr>\n",
       "<tr>\n",
       "  <th>Df Residuals:</th>          <td>   657</td>      <th>  BIC:               </th> <td>   3090.</td>\n",
       "</tr>\n",
       "<tr>\n",
       "  <th>Df Model:</th>              <td>     2</td>      <th>                     </th>     <td> </td>   \n",
       "</tr>\n",
       "<tr>\n",
       "  <th>Covariance Type:</th>      <td>nonrobust</td>    <th>                     </th>     <td> </td>   \n",
       "</tr>\n",
       "</table>\n",
       "<table class=\"simpletable\">\n",
       "<tr>\n",
       "      <td></td>         <th>coef</th>     <th>std err</th>      <th>t</th>      <th>P>|t|</th>  <th>[0.025</th>    <th>0.975]</th>  \n",
       "</tr>\n",
       "<tr>\n",
       "  <th>Intercept</th> <td>    1.9653</td> <td>    0.380</td> <td>    5.171</td> <td> 0.000</td> <td>    1.219</td> <td>    2.712</td>\n",
       "</tr>\n",
       "<tr>\n",
       "  <th>ecoprc</th>    <td>   -2.9265</td> <td>    0.588</td> <td>   -4.978</td> <td> 0.000</td> <td>   -4.081</td> <td>   -1.772</td>\n",
       "</tr>\n",
       "<tr>\n",
       "  <th>regprc</th>    <td>    3.0289</td> <td>    0.711</td> <td>    4.261</td> <td> 0.000</td> <td>    1.633</td> <td>    4.425</td>\n",
       "</tr>\n",
       "</table>\n",
       "<table class=\"simpletable\">\n",
       "<tr>\n",
       "  <th>Omnibus:</th>       <td>991.053</td> <th>  Durbin-Watson:     </th>  <td>   2.020</td> \n",
       "</tr>\n",
       "<tr>\n",
       "  <th>Prob(Omnibus):</th> <td> 0.000</td>  <th>  Jarque-Bera (JB):  </th> <td>354819.834</td>\n",
       "</tr>\n",
       "<tr>\n",
       "  <th>Skew:</th>          <td> 8.309</td>  <th>  Prob(JB):          </th>  <td>    0.00</td> \n",
       "</tr>\n",
       "<tr>\n",
       "  <th>Kurtosis:</th>      <td>115.367</td> <th>  Cond. No.          </th>  <td>    16.0</td> \n",
       "</tr>\n",
       "</table><br/><br/>Warnings:<br/>[1] Standard Errors assume that the covariance matrix of the errors is correctly specified."
      ],
      "text/plain": [
       "<class 'statsmodels.iolib.summary.Summary'>\n",
       "\"\"\"\n",
       "                            OLS Regression Results                            \n",
       "==============================================================================\n",
       "Dep. Variable:                 ecolbs   R-squared:                       0.036\n",
       "Model:                            OLS   Adj. R-squared:                  0.033\n",
       "Method:                 Least Squares   F-statistic:                     12.41\n",
       "Date:                Wed, 08 Apr 2020   Prob (F-statistic):           5.11e-06\n",
       "Time:                        14:55:44   Log-Likelihood:                -1535.3\n",
       "No. Observations:                 660   AIC:                             3077.\n",
       "Df Residuals:                     657   BIC:                             3090.\n",
       "Df Model:                           2                                         \n",
       "Covariance Type:            nonrobust                                         \n",
       "==============================================================================\n",
       "                 coef    std err          t      P>|t|      [0.025      0.975]\n",
       "------------------------------------------------------------------------------\n",
       "Intercept      1.9653      0.380      5.171      0.000       1.219       2.712\n",
       "ecoprc        -2.9265      0.588     -4.978      0.000      -4.081      -1.772\n",
       "regprc         3.0289      0.711      4.261      0.000       1.633       4.425\n",
       "==============================================================================\n",
       "Omnibus:                      991.053   Durbin-Watson:                   2.020\n",
       "Prob(Omnibus):                  0.000   Jarque-Bera (JB):           354819.834\n",
       "Skew:                           8.309   Prob(JB):                         0.00\n",
       "Kurtosis:                     115.367   Cond. No.                         16.0\n",
       "==============================================================================\n",
       "\n",
       "Warnings:\n",
       "[1] Standard Errors assume that the covariance matrix of the errors is correctly specified.\n",
       "\"\"\""
      ]
     },
     "execution_count": 3,
     "metadata": {},
     "output_type": "execute_result"
    }
   ],
   "source": [
    "# baseline model:\n",
    "import statsmodels.formula.api as smf\n",
    "import statsmodels.stats.api as sms\n",
    "from statsmodels.compat import lzip\n",
    "mod=smf.ols('ecolbs ~ ecoprc + regprc ',apdf).fit()\n",
    "b_baseline=mod.params[1]\n",
    "mod.summary()"
   ]
  },
  {
   "cell_type": "markdown",
   "metadata": {},
   "source": [
    "### Now, let's turn our error-prone scribe loose, adding noise to our data:\n",
    "\n",
    "#### First, measurement error in y"
   ]
  },
  {
   "cell_type": "markdown",
   "metadata": {},
   "source": [
    "#### Create a large number of simulated random samples\n",
    "##### Scenario: 1 pound plus-up added to eco apples demand measurement with probability 1/2, no change to original data with probability 1/2\n",
    "##### This means average apple consump in each sample increases by about .5 lbs."
   ]
  },
  {
   "cell_type": "code",
   "execution_count": 4,
   "metadata": {},
   "outputs": [
    {
     "name": "stdout",
     "output_type": "stream",
     "text": [
      "count    660.00000\n",
      "mean       1.47399\n",
      "std        2.52578\n",
      "min        0.00000\n",
      "25%        0.00000\n",
      "50%        1.00000\n",
      "75%        2.00000\n",
      "max       42.00000\n",
      "Name: ecolbs, dtype: float64\n",
      "(660, 400)\n",
      "(660, 17)\n",
      "[0 1 1 0 1 0 1 1 0 1 1 1 0 0 1 1 0 1 1 0 0 0 1 0 1 0 0 1 0 0 1 0 1 0 0 0 0\n",
      " 1 1 0 0 1 1 0 0 0 0 1 1 0 1 0 0 0 1 1 0 0 0 1 0 0 0 0 1 1 1 0 0 1 1 1 0 1\n",
      " 0 1 0 0 1 1 0 0 1 0 1 1 0 0 1 1 1 0 1 1 0 1 1 0 1 1 1 1 0 1 0 0 0 1 1 1 1\n",
      " 1 0 0 0 0 0 1 1 0 0 0 1 1 1 1 0 1 1 1 0 0 1 0 1 1 0 1 0 0 1 1 0 1 0 0 0 1\n",
      " 0 1 1 0 0 0 0 1 0 1 1 1 0 0 1 1 0 1 1 0 0 0 0 0 1 1 1 1 0 0 0 1 0 0 1 1 0\n",
      " 0 0 1 0 1 1 0 0 0 0 0 1 0 1 0 1 0 0 1 0 0 1 0 1 1 1 0 0 1 1 1 1 1 0 0 1 0\n",
      " 1 1 1 0 0 0 0 1 0 1 0 1 1 1 1 0 1 0 0 0 0 1 0 1 0 1 0 0 0 0 0 1 1 0 0 0 1\n",
      " 1 1 1 1 0 0 0 0 0 1 0 0 0 1 1 1 0 0 1 0 0 1 1 1 0 1 1 1 0 0 1 1 0 1 1 1 1\n",
      " 0 0 0 1 0 0 1 0 1 0 1 0 0 0 1 1 0 0 1 1 1 0 0 0 1 1 0 1 1 1 0 0 1 1 0 0 1\n",
      " 0 1 0 1 1 1 0 1 0 0 0 1 0 0 1 1 1 0 1 1 1 0 0 0 1 0 0 1 1 0 1 0 0 1 1 0 0\n",
      " 1 1 1 0 1 0 1 0 0 0 1 1 1 1 1 1 0 1 0 0 0 1 1 0 0 0 1 0 1 0 1 1 1 1 1 1 0\n",
      " 1 0 0 1 1 1 0 0 0 1 0 0 0 1 0 1 1 1 0 1 0 0 0 1 0 0 1 1 1 1 1 0 0 0 0 1 0\n",
      " 1 0 0 0 0 0 1 1 0 0 0 1 0 0 0 1 1 1 0 0 0 1 0 1 0 0 0 0 1 1 0 1 1 0 0 1 1\n",
      " 1 1 0 0 0 1 1 1 1 1 1 0 0 0 0 0 1 0 0 1 1 1 0 1 1 1 0 1 1 0 1 0 0 1 1 0 1\n",
      " 1 1 1 0 0 1 1 0 1 0 1 0 1 0 0 1 1 0 0 1 0 0 0 0 1 0 0 1 0 0 0 0 0 0 0 0 1\n",
      " 0 0 1 0 0 1 1 1 1 1 1 0 1 0 0 1 1 1 0 1 1 0 0 1 1 0 1 0 0 1 1 1 0 0 0 1 1\n",
      " 0 1 1 1 0 1 0 1 1 1 1 0 0 1 0 1 1 0 1 0 1 1 1 1 0 1 1 0 1 0 1 0 0 0 0 1 0\n",
      " 0 1 0 1 0 1 1 1 1 1 1 0 0 0 0 1 1 1 0 0 0 0 0 0 0 0 1 0 1 0 1]\n"
     ]
    },
    {
     "data": {
      "text/plain": [
       "0.5348484848484848"
      ]
     },
     "execution_count": 4,
     "metadata": {},
     "output_type": "execute_result"
    }
   ],
   "source": [
    "print(apdf.ecolbs.describe())\n",
    "np.random.seed(4718952)\n",
    "nsmpl=400 # number of random samples in simulation studies\n",
    "# change above number to change number of random sample replications\n",
    "# now, noisy ecolbs measurement\n",
    "y_err=np.random.randint(0,2,(len(apdf.ecoprc),nsmpl))\n",
    "print(y_err.shape)\n",
    "print(apdf.shape)\n",
    "print(y_err[:,1])\n",
    "\n",
    "y_err[:,3].mean()"
   ]
  },
  {
   "cell_type": "markdown",
   "metadata": {},
   "source": [
    "#### Now reestimate model with noisy dependent variable"
   ]
  },
  {
   "cell_type": "code",
   "execution_count": 5,
   "metadata": {},
   "outputs": [
    {
     "name": "stdout",
     "output_type": "stream",
     "text": [
      "mean of estimated ecoprc coefficient with  400 reps simulated dependent variable measurement errors =  -2.9222431198637344\n"
     ]
    }
   ],
   "source": [
    "# loop thru construction of simulated dataframe, estimation of parameters\n",
    "betap=[]\n",
    "for i in range(0,nsmpl):\n",
    "    dfi=pd.concat([pd.DataFrame({'yerr':y_err[:,i]}),apdf],axis=1)\n",
    "    dfi.loc[:,'ysim']=dfi.ecolbs+dfi.yerr\n",
    "    mod_yerr=smf.ols('ysim ~ ecoprc+regprc',dfi).fit()\n",
    "    betap.append(mod_yerr.params[1])\n",
    "print('mean of estimated ecoprc coefficient with ',nsmpl,'reps simulated dependent variable measurement errors = ',np.mean(betap))"
   ]
  },
  {
   "cell_type": "markdown",
   "metadata": {},
   "source": [
    "#### Price coefficient is still consistent and unbiased!\n",
    "Let's make our simulated price coefficients into a dataframe."
   ]
  },
  {
   "cell_type": "code",
   "execution_count": 6,
   "metadata": {},
   "outputs": [
    {
     "name": "stdout",
     "output_type": "stream",
     "text": [
      "                b\n",
      "count  400.000000\n",
      "mean    -2.922243\n",
      "std      0.117888\n",
      "min     -3.272720\n",
      "25%     -3.005334\n",
      "50%     -2.925958\n",
      "75%     -2.836077\n",
      "max     -2.499820\n"
     ]
    }
   ],
   "source": [
    "bdf=pd.DataFrame({'b':betap})\n",
    "print(bdf.describe())"
   ]
  },
  {
   "cell_type": "code",
   "execution_count": 7,
   "metadata": {},
   "outputs": [
    {
     "data": {
      "image/png": "[encoded data removed]",
      "text/plain": [
       "<Figure size 864x576 with 1 Axes>"
      ]
     },
     "metadata": {
      "needs_background": "light"
     },
     "output_type": "display_data"
    }
   ],
   "source": [
    "fig,ax=plt.subplots(figsize=(12,8))\n",
    "\n",
    "ax.set_title('Effect of y-variable measurement error in ' + str(nsmpl)+' simulated sample replications')\n",
    "ax.set_xlabel('Value of estimated coefficient of ecoprc')\n",
    "ax.hist(bdf.b,bins=100,alpha=.2,color='b')\n",
    "ax.axvline(x=b_baseline)\n",
    "ax.grid()\n",
    "ax.annotate('$\\leftarrow$ Estimated coefficient with no measurement error, original data',xy=(-2.92,15));"
   ]
  },
  {
   "cell_type": "markdown",
   "metadata": {},
   "source": [
    "##### If we increased number of sim replications, what do you think would happen to this distribution picture?"
   ]
  },
  {
   "cell_type": "markdown",
   "metadata": {},
   "source": [
    "#### Summary of what we see\n",
    "\n",
    "* y measurement error: \n",
    "    * simulated measurement error had mean .5\n",
    "    * on intercept, would expect to be up by about .5\n",
    "        * since on average, measured apple consumption up by .5, independent of explanatory variables\n",
    "    * other coefficients a little larger or smaller, but close to original values\n",
    "    * plotted distribution of estimated coeff on ecoprc illustrates this\n",
    "    \n",
    "    \n",
    "* y measurement error has no impact on bias of coefficients, changes only intercept by about expected value of measurement error\n",
    "    * if measurement error had mean zero, would have no effect on constant either, on average\n",
    "    * increases sampling error (impact shown above)\n",
    "    * increases standard errors (not shown) due to noisier data, reduces $R^2$\n",
    "    * No worries, regression results are still unbiased and consistent"
   ]
  },
  {
   "cell_type": "markdown",
   "metadata": {},
   "source": [
    "### Now reestimate with noisy explanatory variable-- eco apple price\n",
    "\n",
    "Same strategy, replicate simulated price with noise added on for nsmpl reps\n",
    "\n",
    "Will make mean (expected value) of error zero by subtracting off .5\n",
    "\n"
   ]
  },
  {
   "cell_type": "code",
   "execution_count": 8,
   "metadata": {},
   "outputs": [
    {
     "name": "stdout",
     "output_type": "stream",
     "text": [
      "count    660.000000\n",
      "mean       1.081517\n",
      "std        0.295573\n",
      "min        0.590000\n",
      "25%        0.890000\n",
      "50%        1.090000\n",
      "75%        1.290000\n",
      "max        1.590000\n",
      "Name: ecoprc, dtype: float64\n",
      "(660, 400)\n",
      "(660, 17)\n",
      "-0.0009090909090909091\n"
     ]
    }
   ],
   "source": [
    "print(apdf.ecoprc.describe())\n",
    "x_err=np.random.randint(0,2,(len(apdf.ecoprc),nsmpl))-.5\n",
    "print(x_err.shape)\n",
    "print(apdf.shape)\n",
    "print(np.mean(x_err))"
   ]
  },
  {
   "cell_type": "code",
   "execution_count": 11,
   "metadata": {},
   "outputs": [
    {
     "name": "stdout",
     "output_type": "stream",
     "text": [
      "mean of estimated ecoprc coefficient with  400  simulated explanatory variable measurement error samples =  -0.27715722093276396\n"
     ]
    }
   ],
   "source": [
    "# loop thru construction of simulated dataframe, estimation of parameters\n",
    "betap=[]\n",
    "for i in range(0,nsmpl):\n",
    "    dfi=pd.concat([pd.DataFrame({'xerr':x_err[:,i]}),apdf],axis=1)\n",
    "    dfi.loc[:,'e_x']=dfi.ecoprc+dfi.xerr\n",
    "    mod_xerr=smf.ols('ecolbs ~ e_x+regprc',dfi).fit()\n",
    "    betap.append(mod_xerr.params[1])\n",
    "print('mean of estimated ecoprc coefficient with ',nsmpl,' simulated explanatory variable measurement error samples = ',np.mean(betap))"
   ]
  },
  {
   "cell_type": "code",
   "execution_count": 12,
   "metadata": {},
   "outputs": [
    {
     "name": "stdout",
     "output_type": "stream",
     "text": [
      "                b\n",
      "count  400.000000\n",
      "mean    -0.277157\n",
      "std      0.187357\n",
      "min     -0.793443\n",
      "25%     -0.405826\n",
      "50%     -0.277834\n",
      "75%     -0.147746\n",
      "max      0.414711\n"
     ]
    }
   ],
   "source": [
    "bdf=pd.DataFrame({'b':betap})\n",
    "print(bdf.describe())"
   ]
  },
  {
   "cell_type": "code",
   "execution_count": 13,
   "metadata": {},
   "outputs": [
    {
     "data": {
      "image/png": "[encoded data removed]",
      "text/plain": [
       "<Figure size 864x576 with 1 Axes>"
      ]
     },
     "metadata": {
      "needs_background": "light"
     },
     "output_type": "display_data"
    }
   ],
   "source": [
    "\n",
    "fig,ax=plt.subplots(figsize=(12,8))\n",
    "ax.set_title('Effect of x-variable measurement error in ' + str(nsmpl)+' simulated sample replications')\n",
    "ax.set_xlabel('Value of estimated coefficient of ecoprc')\n",
    "ax.hist(bdf.b,bins=100,alpha=.2,color='b')\n",
    "ax.axvline(x=b_baseline)\n",
    "ax.grid()\n",
    "ax.annotate('$\\leftarrow$ Estimated coefficient with no measurement error, original data',xy=(-2.9,13));"
   ]
  },
  {
   "cell_type": "markdown",
   "metadata": {},
   "source": [
    "### Wow, huge impact on bias! Can even reverse sign of estimated coefficient..."
   ]
  },
  {
   "cell_type": "markdown",
   "metadata": {},
   "source": [
    "* x measurement error:\n",
    "    * biases coefficient of x, huge impact \n",
    "    * generally, also biases estimates of all other measured coefficients"
   ]
  },
  {
   "cell_type": "markdown",
   "metadata": {},
   "source": [
    "* Moral of this story:\n",
    "    * Measurement error in *y* has no impact on bias of coefficients; just raises expected value of intercept by expected value of error\n",
    "        * increases estimated standard errors and lowers $R^2$\n",
    "    * Measurement error in *x* biases coefficients\n",
    "        * in case of a single explanatory variable, biases coefficient toward zero\n",
    "        * in case of multiple explanatory variables, biases coefficients but more complicated to determine size and direction of bias"
   ]
  },
  {
   "cell_type": "markdown",
   "metadata": {},
   "source": [
    "##### Solutions?\n",
    "\n",
    "* This is an example of *endogeneity*: measured x variable correlated with disturbance term (which contains term dependent on measurement error)\n",
    "    * In simple, one explanatory variable case, magnitude of bias depends on variation in measurement error relative to variation in true, unobserved variable\n",
    "    * bias is small if variance of measurement error small relative to variance of correctly measured variable\n",
    "* One solution:\n",
    "    * Find another variable correlated with true (unobserved) value of variable but unrelated (directly) to y\n",
    "    * Use this other variable to *instrument* the x variable measured with error (we will return to this shortly)\n",
    "    "
   ]
  },
  {
   "cell_type": "code",
   "execution_count": null,
   "metadata": {},
   "outputs": [],
   "source": []
  },
  {
   "cell_type": "code",
   "execution_count": null,
   "metadata": {},
   "outputs": [],
   "source": []
  }
 ],
 "metadata": {
  "kernelspec": {
   "display_name": "Python 3",
   "language": "python",
   "name": "python3"
  },
  "language_info": {
   "codemirror_mode": {
    "name": "ipython",
    "version": 3
   },
   "file_extension": ".py",
   "mimetype": "text/x-python",
   "name": "python",
   "nbconvert_exporter": "python",
   "pygments_lexer": "ipython3",
   "version": "3.7.6"
  }
 },
 "nbformat": 4,
 "nbformat_minor": 4
}
