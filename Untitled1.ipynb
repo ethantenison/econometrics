{
 "cells": [
  {
   "cell_type": "code",
   "execution_count": 2,
   "metadata": {},
   "outputs": [
    {
     "name": "stdout",
     "output_type": "stream",
     "text": [
      "Python version: 3.7.6 (default, Jan  8 2020, 20:23:39) [MSC v.1916 64 bit (AMD64)]\n",
      "Pandas version:  1.0.1\n",
      "['bmh', 'classic', 'dark_background', 'fast', 'fivethirtyeight', 'ggplot', 'grayscale', 'seaborn-bright', 'seaborn-colorblind', 'seaborn-dark-palette', 'seaborn-dark', 'seaborn-darkgrid', 'seaborn-deep', 'seaborn-muted', 'seaborn-notebook', 'seaborn-paper', 'seaborn-pastel', 'seaborn-poster', 'seaborn-talk', 'seaborn-ticks', 'seaborn-white', 'seaborn-whitegrid', 'seaborn', 'Solarize_Light2', 'tableau-colorblind10', '_classic_test']\n"
     ]
    }
   ],
   "source": [
    "import sys as sys\n",
    "import numpy as np                  # pandas uses numpy, and sometimes want to use numpy within pandas\n",
    "import pandas as pd                    # data package, redundant since already did\n",
    "import matplotlib.pyplot as plt               # graphics package\n",
    "import seaborn as sns               # makes matplotlib prettier without issuing a single command!\n",
    "import datetime as dt                  # date and time module, often need to use\n",
    "\n",
    "# check versions (overkill, but why not?)\n",
    "print('Python version:', sys.version)\n",
    "print('Pandas version: ', pd.__version__)\n",
    "\n",
    "print(plt.style.available)\n",
    "plt.style.use('fivethirtyeight')\n",
    "%matplotlib inline "
   ]
  },
  {
   "cell_type": "code",
   "execution_count": 3,
   "metadata": {},
   "outputs": [
    {
     "data": {
      "text/html": [
       "<div>\n",
       "<style scoped>\n",
       "    .dataframe tbody tr th:only-of-type {\n",
       "        vertical-align: middle;\n",
       "    }\n",
       "\n",
       "    .dataframe tbody tr th {\n",
       "        vertical-align: top;\n",
       "    }\n",
       "\n",
       "    .dataframe thead th {\n",
       "        text-align: right;\n",
       "    }\n",
       "</style>\n",
       "<table border=\"1\" class=\"dataframe\">\n",
       "  <thead>\n",
       "    <tr style=\"text-align: right;\">\n",
       "      <th></th>\n",
       "      <th>index</th>\n",
       "      <th>conspuma</th>\n",
       "      <th>stfip</th>\n",
       "      <th>stname</th>\n",
       "      <th>perwt</th>\n",
       "      <th>age</th>\n",
       "      <th>male</th>\n",
       "      <th>married</th>\n",
       "      <th>speakeng</th>\n",
       "      <th>empstat</th>\n",
       "      <th>...</th>\n",
       "      <th>locdt_noag</th>\n",
       "      <th>mex_t90</th>\n",
       "      <th>mex_dt</th>\n",
       "      <th>mex_t90_noag</th>\n",
       "      <th>mex_dt_noag</th>\n",
       "      <th>mex_rca</th>\n",
       "      <th>dchnmshare</th>\n",
       "      <th>border</th>\n",
       "      <th>ind</th>\n",
       "      <th>incwage</th>\n",
       "    </tr>\n",
       "  </thead>\n",
       "  <tbody>\n",
       "    <tr>\n",
       "      <th>0</th>\n",
       "      <td>7365502</td>\n",
       "      <td>391</td>\n",
       "      <td>42</td>\n",
       "      <td>Pennsylvania</td>\n",
       "      <td>14</td>\n",
       "      <td>53</td>\n",
       "      <td>0</td>\n",
       "      <td>0</td>\n",
       "      <td>1</td>\n",
       "      <td>1</td>\n",
       "      <td>...</td>\n",
       "      <td>-0.007788</td>\n",
       "      <td>0.0</td>\n",
       "      <td>0.0</td>\n",
       "      <td>0.0</td>\n",
       "      <td>0.0</td>\n",
       "      <td>0.0</td>\n",
       "      <td>0.0</td>\n",
       "      <td>0</td>\n",
       "      <td>133</td>\n",
       "      <td>13499.996094</td>\n",
       "    </tr>\n",
       "    <tr>\n",
       "      <th>1</th>\n",
       "      <td>7365503</td>\n",
       "      <td>391</td>\n",
       "      <td>42</td>\n",
       "      <td>Pennsylvania</td>\n",
       "      <td>43</td>\n",
       "      <td>27</td>\n",
       "      <td>0</td>\n",
       "      <td>0</td>\n",
       "      <td>1</td>\n",
       "      <td>1</td>\n",
       "      <td>...</td>\n",
       "      <td>-0.007788</td>\n",
       "      <td>0.0</td>\n",
       "      <td>0.0</td>\n",
       "      <td>0.0</td>\n",
       "      <td>0.0</td>\n",
       "      <td>0.0</td>\n",
       "      <td>0.0</td>\n",
       "      <td>0</td>\n",
       "      <td>211</td>\n",
       "      <td>12799.995117</td>\n",
       "    </tr>\n",
       "    <tr>\n",
       "      <th>2</th>\n",
       "      <td>7365500</td>\n",
       "      <td>391</td>\n",
       "      <td>42</td>\n",
       "      <td>Pennsylvania</td>\n",
       "      <td>14</td>\n",
       "      <td>52</td>\n",
       "      <td>1</td>\n",
       "      <td>1</td>\n",
       "      <td>1</td>\n",
       "      <td>1</td>\n",
       "      <td>...</td>\n",
       "      <td>-0.007788</td>\n",
       "      <td>0.0</td>\n",
       "      <td>0.0</td>\n",
       "      <td>0.0</td>\n",
       "      <td>0.0</td>\n",
       "      <td>0.0</td>\n",
       "      <td>0.0</td>\n",
       "      <td>0</td>\n",
       "      <td>167</td>\n",
       "      <td>23999.992188</td>\n",
       "    </tr>\n",
       "    <tr>\n",
       "      <th>3</th>\n",
       "      <td>7365501</td>\n",
       "      <td>391</td>\n",
       "      <td>42</td>\n",
       "      <td>Pennsylvania</td>\n",
       "      <td>18</td>\n",
       "      <td>51</td>\n",
       "      <td>0</td>\n",
       "      <td>1</td>\n",
       "      <td>1</td>\n",
       "      <td>1</td>\n",
       "      <td>...</td>\n",
       "      <td>-0.007788</td>\n",
       "      <td>0.0</td>\n",
       "      <td>0.0</td>\n",
       "      <td>0.0</td>\n",
       "      <td>0.0</td>\n",
       "      <td>0.0</td>\n",
       "      <td>0.0</td>\n",
       "      <td>0</td>\n",
       "      <td>205</td>\n",
       "      <td>52000.011719</td>\n",
       "    </tr>\n",
       "    <tr>\n",
       "      <th>4</th>\n",
       "      <td>7365499</td>\n",
       "      <td>391</td>\n",
       "      <td>42</td>\n",
       "      <td>Pennsylvania</td>\n",
       "      <td>21</td>\n",
       "      <td>47</td>\n",
       "      <td>0</td>\n",
       "      <td>1</td>\n",
       "      <td>1</td>\n",
       "      <td>1</td>\n",
       "      <td>...</td>\n",
       "      <td>-0.007788</td>\n",
       "      <td>0.0</td>\n",
       "      <td>0.0</td>\n",
       "      <td>0.0</td>\n",
       "      <td>0.0</td>\n",
       "      <td>0.0</td>\n",
       "      <td>0.0</td>\n",
       "      <td>0</td>\n",
       "      <td>228</td>\n",
       "      <td>17100.001953</td>\n",
       "    </tr>\n",
       "    <tr>\n",
       "      <th>...</th>\n",
       "      <td>...</td>\n",
       "      <td>...</td>\n",
       "      <td>...</td>\n",
       "      <td>...</td>\n",
       "      <td>...</td>\n",
       "      <td>...</td>\n",
       "      <td>...</td>\n",
       "      <td>...</td>\n",
       "      <td>...</td>\n",
       "      <td>...</td>\n",
       "      <td>...</td>\n",
       "      <td>...</td>\n",
       "      <td>...</td>\n",
       "      <td>...</td>\n",
       "      <td>...</td>\n",
       "      <td>...</td>\n",
       "      <td>...</td>\n",
       "      <td>...</td>\n",
       "      <td>...</td>\n",
       "      <td>...</td>\n",
       "      <td>...</td>\n",
       "    </tr>\n",
       "    <tr>\n",
       "      <th>418968</th>\n",
       "      <td>7778249</td>\n",
       "      <td>422</td>\n",
       "      <td>42</td>\n",
       "      <td>Pennsylvania</td>\n",
       "      <td>7</td>\n",
       "      <td>40</td>\n",
       "      <td>0</td>\n",
       "      <td>0</td>\n",
       "      <td>1</td>\n",
       "      <td>1</td>\n",
       "      <td>...</td>\n",
       "      <td>-0.006908</td>\n",
       "      <td>0.0</td>\n",
       "      <td>0.0</td>\n",
       "      <td>0.0</td>\n",
       "      <td>0.0</td>\n",
       "      <td>0.0</td>\n",
       "      <td>0.0</td>\n",
       "      <td>0</td>\n",
       "      <td>150</td>\n",
       "      <td>10000.000977</td>\n",
       "    </tr>\n",
       "    <tr>\n",
       "      <th>418969</th>\n",
       "      <td>7778248</td>\n",
       "      <td>422</td>\n",
       "      <td>42</td>\n",
       "      <td>Pennsylvania</td>\n",
       "      <td>7</td>\n",
       "      <td>57</td>\n",
       "      <td>1</td>\n",
       "      <td>1</td>\n",
       "      <td>1</td>\n",
       "      <td>1</td>\n",
       "      <td>...</td>\n",
       "      <td>-0.006908</td>\n",
       "      <td>0.0</td>\n",
       "      <td>0.0</td>\n",
       "      <td>0.0</td>\n",
       "      <td>0.0</td>\n",
       "      <td>0.0</td>\n",
       "      <td>0.0</td>\n",
       "      <td>0</td>\n",
       "      <td>201</td>\n",
       "      <td>38500.000000</td>\n",
       "    </tr>\n",
       "    <tr>\n",
       "      <th>418970</th>\n",
       "      <td>7778254</td>\n",
       "      <td>422</td>\n",
       "      <td>42</td>\n",
       "      <td>Pennsylvania</td>\n",
       "      <td>8</td>\n",
       "      <td>28</td>\n",
       "      <td>1</td>\n",
       "      <td>1</td>\n",
       "      <td>1</td>\n",
       "      <td>1</td>\n",
       "      <td>...</td>\n",
       "      <td>-0.006908</td>\n",
       "      <td>0.0</td>\n",
       "      <td>0.0</td>\n",
       "      <td>0.0</td>\n",
       "      <td>0.0</td>\n",
       "      <td>0.0</td>\n",
       "      <td>0.0</td>\n",
       "      <td>0</td>\n",
       "      <td>136</td>\n",
       "      <td>19999.992188</td>\n",
       "    </tr>\n",
       "    <tr>\n",
       "      <th>418971</th>\n",
       "      <td>7778247</td>\n",
       "      <td>422</td>\n",
       "      <td>42</td>\n",
       "      <td>Pennsylvania</td>\n",
       "      <td>7</td>\n",
       "      <td>34</td>\n",
       "      <td>1</td>\n",
       "      <td>1</td>\n",
       "      <td>1</td>\n",
       "      <td>1</td>\n",
       "      <td>...</td>\n",
       "      <td>-0.006908</td>\n",
       "      <td>0.0</td>\n",
       "      <td>0.0</td>\n",
       "      <td>0.0</td>\n",
       "      <td>0.0</td>\n",
       "      <td>0.0</td>\n",
       "      <td>0.0</td>\n",
       "      <td>0</td>\n",
       "      <td>103</td>\n",
       "      <td>22299.990234</td>\n",
       "    </tr>\n",
       "    <tr>\n",
       "      <th>418972</th>\n",
       "      <td>7778246</td>\n",
       "      <td>422</td>\n",
       "      <td>42</td>\n",
       "      <td>Pennsylvania</td>\n",
       "      <td>8</td>\n",
       "      <td>28</td>\n",
       "      <td>1</td>\n",
       "      <td>1</td>\n",
       "      <td>1</td>\n",
       "      <td>1</td>\n",
       "      <td>...</td>\n",
       "      <td>-0.006908</td>\n",
       "      <td>0.0</td>\n",
       "      <td>0.0</td>\n",
       "      <td>0.0</td>\n",
       "      <td>0.0</td>\n",
       "      <td>0.0</td>\n",
       "      <td>0.0</td>\n",
       "      <td>0</td>\n",
       "      <td>142</td>\n",
       "      <td>15000.001953</td>\n",
       "    </tr>\n",
       "  </tbody>\n",
       "</table>\n",
       "<p>418973 rows × 34 columns</p>\n",
       "</div>"
      ],
      "text/plain": [
       "          index  conspuma  stfip        stname  perwt  age  male  married  \\\n",
       "0       7365502       391     42  Pennsylvania     14   53     0        0   \n",
       "1       7365503       391     42  Pennsylvania     43   27     0        0   \n",
       "2       7365500       391     42  Pennsylvania     14   52     1        1   \n",
       "3       7365501       391     42  Pennsylvania     18   51     0        1   \n",
       "4       7365499       391     42  Pennsylvania     21   47     0        1   \n",
       "...         ...       ...    ...           ...    ...  ...   ...      ...   \n",
       "418968  7778249       422     42  Pennsylvania      7   40     0        0   \n",
       "418969  7778248       422     42  Pennsylvania      7   57     1        1   \n",
       "418970  7778254       422     42  Pennsylvania      8   28     1        1   \n",
       "418971  7778247       422     42  Pennsylvania      7   34     1        1   \n",
       "418972  7778246       422     42  Pennsylvania      8   28     1        1   \n",
       "\n",
       "        speakeng  empstat  ...  locdt_noag  mex_t90  mex_dt  mex_t90_noag  \\\n",
       "0              1        1  ...   -0.007788      0.0     0.0           0.0   \n",
       "1              1        1  ...   -0.007788      0.0     0.0           0.0   \n",
       "2              1        1  ...   -0.007788      0.0     0.0           0.0   \n",
       "3              1        1  ...   -0.007788      0.0     0.0           0.0   \n",
       "4              1        1  ...   -0.007788      0.0     0.0           0.0   \n",
       "...          ...      ...  ...         ...      ...     ...           ...   \n",
       "418968         1        1  ...   -0.006908      0.0     0.0           0.0   \n",
       "418969         1        1  ...   -0.006908      0.0     0.0           0.0   \n",
       "418970         1        1  ...   -0.006908      0.0     0.0           0.0   \n",
       "418971         1        1  ...   -0.006908      0.0     0.0           0.0   \n",
       "418972         1        1  ...   -0.006908      0.0     0.0           0.0   \n",
       "\n",
       "        mex_dt_noag  mex_rca  dchnmshare  border  ind       incwage  \n",
       "0               0.0      0.0         0.0       0  133  13499.996094  \n",
       "1               0.0      0.0         0.0       0  211  12799.995117  \n",
       "2               0.0      0.0         0.0       0  167  23999.992188  \n",
       "3               0.0      0.0         0.0       0  205  52000.011719  \n",
       "4               0.0      0.0         0.0       0  228  17100.001953  \n",
       "...             ...      ...         ...     ...  ...           ...  \n",
       "418968          0.0      0.0         0.0       0  150  10000.000977  \n",
       "418969          0.0      0.0         0.0       0  201  38500.000000  \n",
       "418970          0.0      0.0         0.0       0  136  19999.992188  \n",
       "418971          0.0      0.0         0.0       0  103  22299.990234  \n",
       "418972          0.0      0.0         0.0       0  142  15000.001953  \n",
       "\n",
       "[418973 rows x 34 columns]"
      ]
     },
     "execution_count": 3,
     "metadata": {},
     "output_type": "execute_result"
    }
   ],
   "source": [
    "id_df=pd.read_stata('Pennsylvania.dta')\n",
    "id_df"
   ]
  },
  {
   "cell_type": "markdown",
   "metadata": {},
   "source": [
    "#### Histogram of declines in tariffs "
   ]
  },
  {
   "cell_type": "code",
   "execution_count": 6,
   "metadata": {},
   "outputs": [
    {
     "data": {
      "text/plain": [
       "<matplotlib.axes._subplots.AxesSubplot at 0x223f4a2cf88>"
      ]
     },
     "execution_count": 6,
     "metadata": {},
     "output_type": "execute_result"
    },
    {
     "data": {
      "image/png": "[encoded data removed]",
      "text/plain": [
       "<Figure size 432x288 with 1 Axes>"
      ]
     },
     "metadata": {
      "needs_background": "light"
     },
     "output_type": "display_data"
    }
   ],
   "source": [
    "id_df.mex_dt_noag[id_df.yr>0].hist(bins=100)"
   ]
  },
  {
   "cell_type": "code",
   "execution_count": 7,
   "metadata": {},
   "outputs": [
    {
     "data": {
      "text/plain": [
       "2682"
      ]
     },
     "execution_count": 7,
     "metadata": {},
     "output_type": "execute_result"
    }
   ],
   "source": [
    "id_df.loc[id_df.yr>0,'mex_dt_noag'].fillna(0).gt(0).sum() #all workers who had their tariffs increase "
   ]
  },
  {
   "cell_type": "code",
   "execution_count": 10,
   "metadata": {},
   "outputs": [
    {
     "data": {
      "text/plain": [
       "37438"
      ]
     },
     "execution_count": 10,
     "metadata": {},
     "output_type": "execute_result"
    }
   ],
   "source": [
    "(id_df.loc[id_df.yr>0,'mex_dt_noag'].fillna(0).lt(0)).sum() #all workers who had tariff changes that were negative "
   ]
  },
  {
   "cell_type": "code",
   "execution_count": 9,
   "metadata": {},
   "outputs": [
    {
     "name": "stdout",
     "output_type": "stream",
     "text": [
      "0.15866666666666668\n"
     ]
    }
   ],
   "source": [
    "print(2856/18000) # about 15% of wage observations in industries \"treated\" by NAFTA, needs to be changed "
   ]
  },
  {
   "cell_type": "code",
   "execution_count": 11,
   "metadata": {},
   "outputs": [
    {
     "data": {
      "text/plain": [
       "<matplotlib.axes._subplots.AxesSubplot at 0x223f4b4cbc8>"
      ]
     },
     "execution_count": 11,
     "metadata": {},
     "output_type": "execute_result"
    },
    {
     "data": {
      "image/png": "[encoded data removed]",
      "text/plain": [
       "<Figure size 432x288 with 1 Axes>"
      ]
     },
     "metadata": {
      "needs_background": "light"
     },
     "output_type": "display_data"
    }
   ],
   "source": [
    "id_df.mex_dt_noag[(id_df.yr>0)&(id_df.mex_dt_noag<=-.01)].hist(bins=100)"
   ]
  },
  {
   "cell_type": "code",
   "execution_count": 12,
   "metadata": {},
   "outputs": [
    {
     "data": {
      "text/plain": [
       "<matplotlib.axes._subplots.AxesSubplot at 0x223f5446e88>"
      ]
     },
     "execution_count": 12,
     "metadata": {},
     "output_type": "execute_result"
    },
    {
     "data": {
      "image/png": "[encoded data removed]",
      "text/plain": [
       "<Figure size 432x288 with 1 Axes>"
      ]
     },
     "metadata": {
      "needs_background": "light"
     },
     "output_type": "display_data"
    }
   ],
   "source": [
    "id_df.mex_dt_noag[(id_df.yr>0)&(id_df.mex_dt_noag<-.005)].hist(bins=100)"
   ]
  },
  {
   "cell_type": "code",
   "execution_count": 13,
   "metadata": {},
   "outputs": [
    {
     "data": {
      "text/plain": [
       "16442"
      ]
     },
     "execution_count": 13,
     "metadata": {},
     "output_type": "execute_result"
    }
   ],
   "source": [
    "(id_df.loc[id_df.yr>0,'mex_dt_noag'].fillna(0).lt(-.005)).sum()"
   ]
  },
  {
   "cell_type": "code",
   "execution_count": 14,
   "metadata": {},
   "outputs": [
    {
     "name": "stdout",
     "output_type": "stream",
     "text": [
      "0.07861111111111112\n"
     ]
    }
   ],
   "source": [
    "print(1415/18000)  # about 8 % tariff cuts > .5%"
   ]
  },
  {
   "cell_type": "code",
   "execution_count": 15,
   "metadata": {},
   "outputs": [
    {
     "data": {
      "text/plain": [
       "<matplotlib.axes._subplots.AxesSubplot at 0x223f575d088>"
      ]
     },
     "execution_count": 15,
     "metadata": {},
     "output_type": "execute_result"
    },
    {
     "data": {
      "image/png": "[encoded data removed]",
      "text/plain": [
       "<Figure size 432x288 with 1 Axes>"
      ]
     },
     "metadata": {
      "needs_background": "light"
     },
     "output_type": "display_data"
    }
   ],
   "source": [
    "id_df.mex_dt_noag[(id_df.yr>0)&(id_df.mex_dt_noag<-.002)].hist(bins=100)"
   ]
  },
  {
   "cell_type": "code",
   "execution_count": 16,
   "metadata": {},
   "outputs": [
    {
     "data": {
      "text/html": [
       "<div>\n",
       "<style scoped>\n",
       "    .dataframe tbody tr th:only-of-type {\n",
       "        vertical-align: middle;\n",
       "    }\n",
       "\n",
       "    .dataframe tbody tr th {\n",
       "        vertical-align: top;\n",
       "    }\n",
       "\n",
       "    .dataframe thead th {\n",
       "        text-align: right;\n",
       "    }\n",
       "</style>\n",
       "<table border=\"1\" class=\"dataframe\">\n",
       "  <thead>\n",
       "    <tr style=\"text-align: right;\">\n",
       "      <th></th>\n",
       "      <th>index</th>\n",
       "      <th>conspuma</th>\n",
       "      <th>stfip</th>\n",
       "      <th>perwt</th>\n",
       "      <th>age</th>\n",
       "      <th>male</th>\n",
       "      <th>married</th>\n",
       "      <th>speakeng</th>\n",
       "      <th>empstat</th>\n",
       "      <th>ind1990</th>\n",
       "      <th>...</th>\n",
       "      <th>locdt_noag</th>\n",
       "      <th>mex_t90</th>\n",
       "      <th>mex_dt</th>\n",
       "      <th>mex_t90_noag</th>\n",
       "      <th>mex_dt_noag</th>\n",
       "      <th>mex_rca</th>\n",
       "      <th>dchnmshare</th>\n",
       "      <th>border</th>\n",
       "      <th>ind</th>\n",
       "      <th>incwage</th>\n",
       "    </tr>\n",
       "  </thead>\n",
       "  <tbody>\n",
       "    <tr>\n",
       "      <th>count</th>\n",
       "      <td>4.189730e+05</td>\n",
       "      <td>418973.000000</td>\n",
       "      <td>418973.0</td>\n",
       "      <td>418973.000000</td>\n",
       "      <td>418973.000000</td>\n",
       "      <td>418973.000000</td>\n",
       "      <td>418973.000000</td>\n",
       "      <td>418973.000000</td>\n",
       "      <td>418973.0</td>\n",
       "      <td>418973.000000</td>\n",
       "      <td>...</td>\n",
       "      <td>418973.000000</td>\n",
       "      <td>418973.000000</td>\n",
       "      <td>418973.000000</td>\n",
       "      <td>418973.000000</td>\n",
       "      <td>418973.000000</td>\n",
       "      <td>418973.000000</td>\n",
       "      <td>418973.000000</td>\n",
       "      <td>418973.0</td>\n",
       "      <td>418973.000000</td>\n",
       "      <td>418973.000000</td>\n",
       "    </tr>\n",
       "    <tr>\n",
       "      <th>mean</th>\n",
       "      <td>7.573162e+06</td>\n",
       "      <td>407.361205</td>\n",
       "      <td>42.0</td>\n",
       "      <td>20.061868</td>\n",
       "      <td>41.636048</td>\n",
       "      <td>0.537185</td>\n",
       "      <td>0.701513</td>\n",
       "      <td>0.999179</td>\n",
       "      <td>1.0</td>\n",
       "      <td>565.389903</td>\n",
       "      <td>...</td>\n",
       "      <td>-0.010982</td>\n",
       "      <td>0.002109</td>\n",
       "      <td>-0.001824</td>\n",
       "      <td>0.001957</td>\n",
       "      <td>-0.001675</td>\n",
       "      <td>0.160522</td>\n",
       "      <td>0.013564</td>\n",
       "      <td>0.0</td>\n",
       "      <td>133.461927</td>\n",
       "      <td>30241.406250</td>\n",
       "    </tr>\n",
       "    <tr>\n",
       "      <th>std</th>\n",
       "      <td>1.209472e+05</td>\n",
       "      <td>7.734185</td>\n",
       "      <td>0.0</td>\n",
       "      <td>11.411825</td>\n",
       "      <td>10.218994</td>\n",
       "      <td>0.498616</td>\n",
       "      <td>0.457595</td>\n",
       "      <td>0.028642</td>\n",
       "      <td>0.0</td>\n",
       "      <td>277.630139</td>\n",
       "      <td>...</td>\n",
       "      <td>0.003263</td>\n",
       "      <td>0.008215</td>\n",
       "      <td>0.006920</td>\n",
       "      <td>0.007891</td>\n",
       "      <td>0.006545</td>\n",
       "      <td>0.964491</td>\n",
       "      <td>0.042069</td>\n",
       "      <td>0.0</td>\n",
       "      <td>70.079432</td>\n",
       "      <td>29953.597656</td>\n",
       "    </tr>\n",
       "    <tr>\n",
       "      <th>min</th>\n",
       "      <td>7.363676e+06</td>\n",
       "      <td>391.000000</td>\n",
       "      <td>42.0</td>\n",
       "      <td>0.000000</td>\n",
       "      <td>25.000000</td>\n",
       "      <td>0.000000</td>\n",
       "      <td>0.000000</td>\n",
       "      <td>0.000000</td>\n",
       "      <td>1.0</td>\n",
       "      <td>10.000000</td>\n",
       "      <td>...</td>\n",
       "      <td>-0.023524</td>\n",
       "      <td>0.000000</td>\n",
       "      <td>-0.067598</td>\n",
       "      <td>0.000000</td>\n",
       "      <td>-0.067598</td>\n",
       "      <td>0.000000</td>\n",
       "      <td>-0.028184</td>\n",
       "      <td>0.0</td>\n",
       "      <td>1.000000</td>\n",
       "      <td>1.000000</td>\n",
       "    </tr>\n",
       "    <tr>\n",
       "      <th>25%</th>\n",
       "      <td>7.468419e+06</td>\n",
       "      <td>400.000000</td>\n",
       "      <td>42.0</td>\n",
       "      <td>8.000000</td>\n",
       "      <td>33.000000</td>\n",
       "      <td>0.000000</td>\n",
       "      <td>0.000000</td>\n",
       "      <td>1.000000</td>\n",
       "      <td>1.0</td>\n",
       "      <td>331.000000</td>\n",
       "      <td>...</td>\n",
       "      <td>-0.012300</td>\n",
       "      <td>0.000000</td>\n",
       "      <td>0.000000</td>\n",
       "      <td>0.000000</td>\n",
       "      <td>0.000000</td>\n",
       "      <td>0.000000</td>\n",
       "      <td>0.000000</td>\n",
       "      <td>0.0</td>\n",
       "      <td>74.000000</td>\n",
       "      <td>14800.002930</td>\n",
       "    </tr>\n",
       "    <tr>\n",
       "      <th>50%</th>\n",
       "      <td>7.573162e+06</td>\n",
       "      <td>409.000000</td>\n",
       "      <td>42.0</td>\n",
       "      <td>21.000000</td>\n",
       "      <td>41.000000</td>\n",
       "      <td>1.000000</td>\n",
       "      <td>1.000000</td>\n",
       "      <td>1.000000</td>\n",
       "      <td>1.0</td>\n",
       "      <td>641.000000</td>\n",
       "      <td>...</td>\n",
       "      <td>-0.010620</td>\n",
       "      <td>0.000000</td>\n",
       "      <td>0.000000</td>\n",
       "      <td>0.000000</td>\n",
       "      <td>0.000000</td>\n",
       "      <td>0.000000</td>\n",
       "      <td>0.000000</td>\n",
       "      <td>0.0</td>\n",
       "      <td>150.000000</td>\n",
       "      <td>24699.992188</td>\n",
       "    </tr>\n",
       "    <tr>\n",
       "      <th>75%</th>\n",
       "      <td>7.677905e+06</td>\n",
       "      <td>413.000000</td>\n",
       "      <td>42.0</td>\n",
       "      <td>28.000000</td>\n",
       "      <td>49.000000</td>\n",
       "      <td>1.000000</td>\n",
       "      <td>1.000000</td>\n",
       "      <td>1.000000</td>\n",
       "      <td>1.0</td>\n",
       "      <td>831.000000</td>\n",
       "      <td>...</td>\n",
       "      <td>-0.008964</td>\n",
       "      <td>0.000000</td>\n",
       "      <td>0.000000</td>\n",
       "      <td>0.000000</td>\n",
       "      <td>0.000000</td>\n",
       "      <td>0.000000</td>\n",
       "      <td>0.000000</td>\n",
       "      <td>0.0</td>\n",
       "      <td>201.000000</td>\n",
       "      <td>36999.992188</td>\n",
       "    </tr>\n",
       "    <tr>\n",
       "      <th>max</th>\n",
       "      <td>7.782648e+06</td>\n",
       "      <td>422.000000</td>\n",
       "      <td>42.0</td>\n",
       "      <td>176.000000</td>\n",
       "      <td>64.000000</td>\n",
       "      <td>1.000000</td>\n",
       "      <td>1.000000</td>\n",
       "      <td>1.000000</td>\n",
       "      <td>1.0</td>\n",
       "      <td>960.000000</td>\n",
       "      <td>...</td>\n",
       "      <td>-0.005346</td>\n",
       "      <td>0.086621</td>\n",
       "      <td>0.001239</td>\n",
       "      <td>0.086621</td>\n",
       "      <td>0.001239</td>\n",
       "      <td>21.770504</td>\n",
       "      <td>0.466414</td>\n",
       "      <td>0.0</td>\n",
       "      <td>238.000000</td>\n",
       "      <td>309999.875000</td>\n",
       "    </tr>\n",
       "  </tbody>\n",
       "</table>\n",
       "<p>8 rows × 33 columns</p>\n",
       "</div>"
      ],
      "text/plain": [
       "              index       conspuma     stfip          perwt            age  \\\n",
       "count  4.189730e+05  418973.000000  418973.0  418973.000000  418973.000000   \n",
       "mean   7.573162e+06     407.361205      42.0      20.061868      41.636048   \n",
       "std    1.209472e+05       7.734185       0.0      11.411825      10.218994   \n",
       "min    7.363676e+06     391.000000      42.0       0.000000      25.000000   \n",
       "25%    7.468419e+06     400.000000      42.0       8.000000      33.000000   \n",
       "50%    7.573162e+06     409.000000      42.0      21.000000      41.000000   \n",
       "75%    7.677905e+06     413.000000      42.0      28.000000      49.000000   \n",
       "max    7.782648e+06     422.000000      42.0     176.000000      64.000000   \n",
       "\n",
       "                male        married       speakeng   empstat        ind1990  \\\n",
       "count  418973.000000  418973.000000  418973.000000  418973.0  418973.000000   \n",
       "mean        0.537185       0.701513       0.999179       1.0     565.389903   \n",
       "std         0.498616       0.457595       0.028642       0.0     277.630139   \n",
       "min         0.000000       0.000000       0.000000       1.0      10.000000   \n",
       "25%         0.000000       0.000000       1.000000       1.0     331.000000   \n",
       "50%         1.000000       1.000000       1.000000       1.0     641.000000   \n",
       "75%         1.000000       1.000000       1.000000       1.0     831.000000   \n",
       "max         1.000000       1.000000       1.000000       1.0     960.000000   \n",
       "\n",
       "       ...     locdt_noag        mex_t90         mex_dt   mex_t90_noag  \\\n",
       "count  ...  418973.000000  418973.000000  418973.000000  418973.000000   \n",
       "mean   ...      -0.010982       0.002109      -0.001824       0.001957   \n",
       "std    ...       0.003263       0.008215       0.006920       0.007891   \n",
       "min    ...      -0.023524       0.000000      -0.067598       0.000000   \n",
       "25%    ...      -0.012300       0.000000       0.000000       0.000000   \n",
       "50%    ...      -0.010620       0.000000       0.000000       0.000000   \n",
       "75%    ...      -0.008964       0.000000       0.000000       0.000000   \n",
       "max    ...      -0.005346       0.086621       0.001239       0.086621   \n",
       "\n",
       "         mex_dt_noag        mex_rca     dchnmshare    border            ind  \\\n",
       "count  418973.000000  418973.000000  418973.000000  418973.0  418973.000000   \n",
       "mean       -0.001675       0.160522       0.013564       0.0     133.461927   \n",
       "std         0.006545       0.964491       0.042069       0.0      70.079432   \n",
       "min        -0.067598       0.000000      -0.028184       0.0       1.000000   \n",
       "25%         0.000000       0.000000       0.000000       0.0      74.000000   \n",
       "50%         0.000000       0.000000       0.000000       0.0     150.000000   \n",
       "75%         0.000000       0.000000       0.000000       0.0     201.000000   \n",
       "max         0.001239      21.770504       0.466414       0.0     238.000000   \n",
       "\n",
       "             incwage  \n",
       "count  418973.000000  \n",
       "mean    30241.406250  \n",
       "std     29953.597656  \n",
       "min         1.000000  \n",
       "25%     14800.002930  \n",
       "50%     24699.992188  \n",
       "75%     36999.992188  \n",
       "max    309999.875000  \n",
       "\n",
       "[8 rows x 33 columns]"
      ]
     },
     "execution_count": 16,
     "metadata": {},
     "output_type": "execute_result"
    }
   ],
   "source": [
    "main=id_df.drop('stname',axis=1) # DescrStatsW sometimes barfs if it eats a string variable\n",
    "main.describe()"
   ]
  },
  {
   "cell_type": "code",
   "execution_count": 17,
   "metadata": {},
   "outputs": [],
   "source": [
    "from statsmodels.stats.weightstats import DescrStatsW as dsw \n",
    "#wtd_inc=dsw(tstdf.loc[:,'incwage'],weights=tstdf.loc[:,'perwt']) # person-weight variable, get incwage var only\n",
    "# perwt is the weights variable\n"
   ]
  },
  {
   "cell_type": "code",
   "execution_count": 18,
   "metadata": {},
   "outputs": [
    {
     "data": {
      "text/plain": [
       "count    418973.000000\n",
       "mean          0.079189\n",
       "std           0.270034\n",
       "min           0.000000\n",
       "25%           0.000000\n",
       "50%           0.000000\n",
       "75%           0.000000\n",
       "max           1.000000\n",
       "Name: lhs, dtype: float64"
      ]
     },
     "execution_count": 18,
     "metadata": {},
     "output_type": "execute_result"
    }
   ],
   "source": [
    "main.lhs.describe()"
   ]
  },
  {
   "cell_type": "markdown",
   "metadata": {},
   "source": [
    "#### 2. Now, divide your state into 8 separate dataframes based on educational group and year (1990-yr==0, vs. 2000-yr==1):"
   ]
  },
  {
   "cell_type": "code",
   "execution_count": null,
   "metadata": {},
   "outputs": [],
   "source": []
  }
 ],
 "metadata": {
  "kernelspec": {
   "display_name": "Python 3",
   "language": "python",
   "name": "python3"
  },
  "language_info": {
   "codemirror_mode": {
    "name": "ipython",
    "version": 3
   },
   "file_extension": ".py",
   "mimetype": "text/x-python",
   "name": "python",
   "nbconvert_exporter": "python",
   "pygments_lexer": "ipython3",
   "version": "3.7.6"
  }
 },
 "nbformat": 4,
 "nbformat_minor": 4
}
