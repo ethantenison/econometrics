{
 "cells": [
  {
   "cell_type": "markdown",
   "metadata": {},
   "source": [
    "### Are Extreme Temperatures a Problem That Our Nation Should be Preparing For?\n",
    "#### Group Project 2\n",
    "###### Ver. 2020.04\n",
    "##### Prof. Flamm"
   ]
  },
  {
   "cell_type": "markdown",
   "metadata": {},
   "source": [
    "* This project uses the same temperature datasets used in Group Project 1\n",
    "* Please let me know ASAP if you wish to change either your country or your group\n",
    "* Your work on this is also likely to be relevant to your individual project\n"
   ]
  },
  {
   "cell_type": "markdown",
   "metadata": {},
   "source": [
    "#### Context\n",
    "Aside from changes in the mean temperature, the government is also worried that climate change will result in more frequent extreme weather events. Your nation has experienced a few major storms and severe heat waves in the past, both of which caused serious damage and disruption to economic activity.\n",
    "Will weather become more extreme and vary more as a result of climate change? This New York Times article \n",
    "\n",
    "[Link to NY Times Article](https://www.nytimes.com/interactive/2017/07/28/climate/more-frequent-extreme-summer-heat.html?emc=edit_th_20170729&nl=todaysheadlines&nlid=36015469)\n",
    "\n",
    "uses the same temperature datasets you previously had used to investigate the distribution of temperatures and temperature variability over time. Read through this article, paying close attention to the descriptions of the temperature distributions.\n",
    "\n",
    "As we saw earlier this semester, we can use the mean and median to describe distributions, and we can use deciles to describe parts of distributions. We are now going to create similar plots of temperature distributions to the ones in the New York Times article, and look at different ways of summarizing distributions.\n"
   ]
  },
  {
   "cell_type": "markdown",
   "metadata": {},
   "source": [
    "#### Frequency Tables \n",
    "\n",
    "* In order to create a column plot using the temperature data we have, we first need to summarize the data using a frequency table. \n",
    "* A frequency table is a record of how many observations in a dataset have a particular value, range of values, or belong to a particular category. Instead of using deciles to group the data, we are going to use intervals of .05. For example, temperature anomalies with a value from −0.03 to −0.25 will be in one group, a value greater than −0.25 up until -0.2 in another group, and so on. The frequency table shows us how many values belong to a particular group.\n",
    "* Pandas has a built-in method (crosstab) that can be used to construct frequency tables; crosstab returns the frequency table as a new dataframe.)\n",
    "\n"
   ]
  },
  {
   "cell_type": "markdown",
   "metadata": {},
   "source": [
    "#### Part 1. Changes in Temperature Frequencies\n",
    "> **A.** Using the annual data for the latitude band corresponding to your country, create two frequency tables similar to the sketch below for the years 1950–1984, and 1985–2019, respectively. The values in the first column should cover the minimum for your latitude band to the maximum, in intervals of 0.05, like this (for example):"
   ]
  },
  {
   "cell_type": "markdown",
   "metadata": {},
   "source": [
    "                    \n",
    "                              Frequency\n",
    "Range of temperature anomaly (T)  \n",
    "* −0.3                              \n",
    "                                * 4\n",
    "\n",
    "* −0.25                            \n",
    "                                * 2\n",
    "\n",
    "* ...\n",
    "                                * ...\n",
    "\n",
    "* 1.00                           \n",
    "                                * 2\n",
    "\n",
    "* 1.05                              \n",
    "                                * 1\n",
    "\n",
    "* All ranges                       \n",
    "                                * 34\n",
    "\n",
    "To assist you in getting the hang of it, I have prepared a tutorial notebook that uses Pandas to do a frequency table using a simulated dataset. It makes use of the Pandas `cut` function.\n"
   ]
  },
  {
   "cell_type": "markdown",
   "metadata": {},
   "source": [
    "> **Q 1.1**\n",
    "Frequency tables"
   ]
  },
  {
   "cell_type": "markdown",
   "metadata": {},
   "source": [
    "Please create the requested frequency tables here:"
   ]
  },
  {
   "cell_type": "code",
   "execution_count": null,
   "metadata": {},
   "outputs": [],
   "source": []
  },
  {
   "cell_type": "markdown",
   "metadata": {},
   "source": [
    "#### Part 2. Comparing Distributions\n",
    "Using these frequency tables:\n",
    "\n",
    "> Plot two separate charts for 1950–1984 and 1985–2019 to show the distribution of temperatures, with frequency on the vertical axis and the range of temperature anomaly on the horizontal axis. Your goal is to create charts similar in purpose to those in the New York Times article. The easiest way to do this is to do a bar chart.\n",
    "\n",
    "To assist you in getting the hang of it, the tutorial notebook uses Pandas to plot suitable bar charts from the simulated dataset."
   ]
  },
  {
   "cell_type": "markdown",
   "metadata": {},
   "source": [
    "> **Q 2.1** Chart with temperature anomalies plotted."
   ]
  },
  {
   "cell_type": "code",
   "execution_count": null,
   "metadata": {},
   "outputs": [],
   "source": []
  },
  {
   "cell_type": "markdown",
   "metadata": {},
   "source": [
    "> **Q 2.2**\n",
    "Using your charts, describe the similarities and differences (if any) between the distributions of temperature anomalies in 1950–1984 and 1985–2019."
   ]
  },
  {
   "cell_type": "markdown",
   "metadata": {},
   "source": []
  },
  {
   "cell_type": "markdown",
   "metadata": {},
   "source": [
    "### Part 3. Summarizing Distributional Differences\n",
    "\n",
    "Now we will use our data to look at different aspects of these temperature distributions. First, we will use deciles to determine which observations are ‘normal’ and ‘abnormal’, and illustrate how to use variance. Recall that variance is a measure of dispersion in a frequency distribution, equal to the mean of the squares of the deviations from the arithmetic mean of the distribution. The variance is used to indicate how ‘spread out’ the data is in describing the shape of the distribution. A higher variance means that the data is more spread out. Example: The set of numbers 1, 1, 1 has zero variance (no variation), while the set of numbers 1, 1, 999 has a high variance.\n",
    " \n",
    "The New York Times article considers the bottom third (the lowest or coldest ~thirty percent) of temperature anomalies in 1951–1980 as ‘cold’ and the top third (the highest or hottest ~ thirty percent) of anomalies as ‘hot’. In decile terms, temperatures in the 1st to 3rd decile are ‘cold’ and temperatures in the 7th to 10th decile or above are ‘hot’ (rounded to the nearest decile). We can use Pandas’ `quantile` method to determine what values correspond to the 3rd and 7th decile, across all years in our 1950–1984 subsample."
   ]
  },
  {
   "cell_type": "markdown",
   "metadata": {},
   "source": [
    "> **Q 3.1**\n",
    "Based on the values you found, count the number of anomalies that are considered ‘hot’ in 1985–2019, and express this as a percentage of all the temperature observations in that period. Does your answer suggest that we are experiencing hotter weather more frequently in 1985–2019? (Remember that each decile represents 10% of observations, so ~30% of temperatures were considered ‘hot’ in 1950–1984.)"
   ]
  },
  {
   "cell_type": "code",
   "execution_count": null,
   "metadata": {},
   "outputs": [],
   "source": []
  },
  {
   "cell_type": "markdown",
   "metadata": {},
   "source": [
    "> **Q 3.2**\n",
    "Please calculate mean, median, and variance of temperature around its mean in each of the subsample time periods (1950-84 vs. 1985-2019). Did the variance seem to rise or fall?\n",
    "Compare the variances in different periods, and explain whether or not temperature appears to be more variable in later periods\n"
   ]
  },
  {
   "cell_type": "code",
   "execution_count": null,
   "metadata": {},
   "outputs": [],
   "source": []
  },
  {
   "cell_type": "markdown",
   "metadata": {},
   "source": [
    "> **Q 3.3** \n",
    "Using the findings of the New York Times article and your answers, discuss whether temperature appears to be more variable over time. Would you advise the government to spend more money on mitigating the effects of extreme weather events?\n"
   ]
  },
  {
   "cell_type": "code",
   "execution_count": null,
   "metadata": {},
   "outputs": [],
   "source": []
  }
 ],
 "metadata": {
  "kernelspec": {
   "display_name": "Python 3",
   "language": "python",
   "name": "python3"
  },
  "language_info": {
   "codemirror_mode": {
    "name": "ipython",
    "version": 3
   },
   "file_extension": ".py",
   "mimetype": "text/x-python",
   "name": "python",
   "nbconvert_exporter": "python",
   "pygments_lexer": "ipython3",
   "version": "3.7.6"
  }
 },
 "nbformat": 4,
 "nbformat_minor": 4
}
