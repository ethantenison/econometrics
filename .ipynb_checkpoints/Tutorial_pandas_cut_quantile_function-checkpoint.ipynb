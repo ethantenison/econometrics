{
 "cells": [
  {
   "cell_type": "code",
   "execution_count": 1,
   "metadata": {},
   "outputs": [
    {
     "name": "stdout",
     "output_type": "stream",
     "text": [
      "['bmh', 'classic', 'dark_background', 'fast', 'fivethirtyeight', 'ggplot', 'grayscale', 'seaborn-bright', 'seaborn-colorblind', 'seaborn-dark-palette', 'seaborn-dark', 'seaborn-darkgrid', 'seaborn-deep', 'seaborn-muted', 'seaborn-notebook', 'seaborn-paper', 'seaborn-pastel', 'seaborn-poster', 'seaborn-talk', 'seaborn-ticks', 'seaborn-white', 'seaborn-whitegrid', 'seaborn', 'Solarize_Light2', 'tableau-colorblind10', '_classic_test']\n"
     ]
    }
   ],
   "source": [
    "# the usual suspects...\n",
    "import sys                             # system module \n",
    "import numpy as np                  # pandas uses numpy, and sometimes want to use numpy within pandas\n",
    "import pandas as pd                 # data analysis package\n",
    " \n",
    "import matplotlib.pyplot as plt      # graphics package\n",
    "import seaborn as sns               # makes matplotlib prettier without issuing a single command!\n",
    "import datetime as dt                  # date and time module, sometimes need to use\n",
    " \n",
    "%matplotlib inline\n",
    "print(plt.style.available)"
   ]
  },
  {
   "cell_type": "code",
   "execution_count": 2,
   "metadata": {},
   "outputs": [],
   "source": [
    "plt.style.use('seaborn-pastel')"
   ]
  },
  {
   "cell_type": "code",
   "execution_count": 52,
   "metadata": {},
   "outputs": [
    {
     "data": {
      "text/html": [
       "<div>\n",
       "<style scoped>\n",
       "    .dataframe tbody tr th:only-of-type {\n",
       "        vertical-align: middle;\n",
       "    }\n",
       "\n",
       "    .dataframe tbody tr th {\n",
       "        vertical-align: top;\n",
       "    }\n",
       "\n",
       "    .dataframe thead th {\n",
       "        text-align: right;\n",
       "    }\n",
       "</style>\n",
       "<table border=\"1\" class=\"dataframe\">\n",
       "  <thead>\n",
       "    <tr style=\"text-align: right;\">\n",
       "      <th></th>\n",
       "      <th>var</th>\n",
       "      <th>time_period</th>\n",
       "    </tr>\n",
       "  </thead>\n",
       "  <tbody>\n",
       "    <tr>\n",
       "      <th>0</th>\n",
       "      <td>47</td>\n",
       "      <td>0</td>\n",
       "    </tr>\n",
       "    <tr>\n",
       "      <th>1</th>\n",
       "      <td>76</td>\n",
       "      <td>0</td>\n",
       "    </tr>\n",
       "    <tr>\n",
       "      <th>2</th>\n",
       "      <td>16</td>\n",
       "      <td>0</td>\n",
       "    </tr>\n",
       "    <tr>\n",
       "      <th>3</th>\n",
       "      <td>67</td>\n",
       "      <td>0</td>\n",
       "    </tr>\n",
       "    <tr>\n",
       "      <th>4</th>\n",
       "      <td>24</td>\n",
       "      <td>0</td>\n",
       "    </tr>\n",
       "    <tr>\n",
       "      <th>...</th>\n",
       "      <td>...</td>\n",
       "      <td>...</td>\n",
       "    </tr>\n",
       "    <tr>\n",
       "      <th>95</th>\n",
       "      <td>54</td>\n",
       "      <td>1</td>\n",
       "    </tr>\n",
       "    <tr>\n",
       "      <th>96</th>\n",
       "      <td>42</td>\n",
       "      <td>1</td>\n",
       "    </tr>\n",
       "    <tr>\n",
       "      <th>97</th>\n",
       "      <td>5</td>\n",
       "      <td>1</td>\n",
       "    </tr>\n",
       "    <tr>\n",
       "      <th>98</th>\n",
       "      <td>64</td>\n",
       "      <td>1</td>\n",
       "    </tr>\n",
       "    <tr>\n",
       "      <th>99</th>\n",
       "      <td>69</td>\n",
       "      <td>1</td>\n",
       "    </tr>\n",
       "  </tbody>\n",
       "</table>\n",
       "<p>100 rows × 2 columns</p>\n",
       "</div>"
      ],
      "text/plain": [
       "    var  time_period\n",
       "0    47            0\n",
       "1    76            0\n",
       "2    16            0\n",
       "3    67            0\n",
       "4    24            0\n",
       "..  ...          ...\n",
       "95   54            1\n",
       "96   42            1\n",
       "97    5            1\n",
       "98   64            1\n",
       "99   69            1\n",
       "\n",
       "[100 rows x 2 columns]"
      ]
     },
     "execution_count": 52,
     "metadata": {},
     "output_type": "execute_result"
    }
   ],
   "source": [
    "# Need some fake data\n",
    "# Create 100 random integers between 1 and 100\n",
    "# 1st 50 in time period 0, 2nd 50 in time period 1\n",
    "np.random.seed(seed=512471)\n",
    "draws=100 # this needs to be evenly divisible by 2\n",
    "hdraws=int(draws/2)\n",
    "var = np.random.randint(1,101,draws) \n",
    "# 100 random draws of integers between [1,101) note right-side interval non-inclusive\n",
    "time_period=[0]*(hdraws) + [1]*(hdraws)\n",
    "df=pd.DataFrame({'var':var,'time_period':time_period})\n",
    "df"
   ]
  },
  {
   "cell_type": "code",
   "execution_count": 53,
   "metadata": {},
   "outputs": [
    {
     "name": "stdout",
     "output_type": "stream",
     "text": [
      "100\n",
      "21\n"
     ]
    },
    {
     "data": {
      "text/plain": [
       "[0,\n",
       " 5,\n",
       " 10,\n",
       " 15,\n",
       " 20,\n",
       " 25,\n",
       " 30,\n",
       " 35,\n",
       " 40,\n",
       " 45,\n",
       " 50,\n",
       " 55,\n",
       " 60,\n",
       " 65,\n",
       " 70,\n",
       " 75,\n",
       " 80,\n",
       " 85,\n",
       " 90,\n",
       " 95,\n",
       " 100]"
      ]
     },
     "execution_count": 53,
     "metadata": {},
     "output_type": "execute_result"
    }
   ],
   "source": [
    "# create categorical bin values to put continuous outcomes into\n",
    "print(len(df['var']))\n",
    "bin_vals=list(range(0,101,5))\n",
    "print(len(bin_vals))\n",
    "bin_vals"
   ]
  },
  {
   "cell_type": "code",
   "execution_count": 54,
   "metadata": {},
   "outputs": [
    {
     "data": {
      "text/html": [
       "<div>\n",
       "<style scoped>\n",
       "    .dataframe tbody tr th:only-of-type {\n",
       "        vertical-align: middle;\n",
       "    }\n",
       "\n",
       "    .dataframe tbody tr th {\n",
       "        vertical-align: top;\n",
       "    }\n",
       "\n",
       "    .dataframe thead th {\n",
       "        text-align: right;\n",
       "    }\n",
       "</style>\n",
       "<table border=\"1\" class=\"dataframe\">\n",
       "  <thead>\n",
       "    <tr style=\"text-align: right;\">\n",
       "      <th></th>\n",
       "      <th>var</th>\n",
       "      <th>time_period</th>\n",
       "    </tr>\n",
       "  </thead>\n",
       "  <tbody>\n",
       "    <tr>\n",
       "      <th>count</th>\n",
       "      <td>100.000000</td>\n",
       "      <td>100.000000</td>\n",
       "    </tr>\n",
       "    <tr>\n",
       "      <th>mean</th>\n",
       "      <td>49.950000</td>\n",
       "      <td>0.500000</td>\n",
       "    </tr>\n",
       "    <tr>\n",
       "      <th>std</th>\n",
       "      <td>28.330793</td>\n",
       "      <td>0.502519</td>\n",
       "    </tr>\n",
       "    <tr>\n",
       "      <th>min</th>\n",
       "      <td>5.000000</td>\n",
       "      <td>0.000000</td>\n",
       "    </tr>\n",
       "    <tr>\n",
       "      <th>25%</th>\n",
       "      <td>27.500000</td>\n",
       "      <td>0.000000</td>\n",
       "    </tr>\n",
       "    <tr>\n",
       "      <th>50%</th>\n",
       "      <td>49.000000</td>\n",
       "      <td>0.500000</td>\n",
       "    </tr>\n",
       "    <tr>\n",
       "      <th>75%</th>\n",
       "      <td>73.250000</td>\n",
       "      <td>1.000000</td>\n",
       "    </tr>\n",
       "    <tr>\n",
       "      <th>max</th>\n",
       "      <td>100.000000</td>\n",
       "      <td>1.000000</td>\n",
       "    </tr>\n",
       "  </tbody>\n",
       "</table>\n",
       "</div>"
      ],
      "text/plain": [
       "              var  time_period\n",
       "count  100.000000   100.000000\n",
       "mean    49.950000     0.500000\n",
       "std     28.330793     0.502519\n",
       "min      5.000000     0.000000\n",
       "25%     27.500000     0.000000\n",
       "50%     49.000000     0.500000\n",
       "75%     73.250000     1.000000\n",
       "max    100.000000     1.000000"
      ]
     },
     "execution_count": 54,
     "metadata": {},
     "output_type": "execute_result"
    }
   ],
   "source": [
    "df.describe()"
   ]
  },
  {
   "cell_type": "code",
   "execution_count": 55,
   "metadata": {},
   "outputs": [
    {
     "name": "stdout",
     "output_type": "stream",
     "text": [
      "    var  time_period    buckets\n",
      "97    5            1     (0, 5]\n",
      "51    5            1     (0, 5]\n",
      "84    6            1    (5, 10]\n",
      "5     6            0    (5, 10]\n",
      "41    6            0    (5, 10]\n",
      "..  ...          ...        ...\n",
      "36   96            0  (95, 100]\n",
      "39   97            0  (95, 100]\n",
      "87   97            1  (95, 100]\n",
      "92   98            1  (95, 100]\n",
      "33  100            0  (95, 100]\n",
      "\n",
      "[100 rows x 3 columns]\n"
     ]
    }
   ],
   "source": [
    "# assign variable var to categorical bin depending on value\n",
    "df['buckets']=pd.cut(df['var'], bins = bin_vals,include_lowest=False)\n",
    "# last parameter ensures lowest value in list of cut points included in first bucket if set to True\n",
    "# defaults to bins inclusive on right, non-inclusive on left; first bucket inclusive on both sides when set True\n",
    "# we don't need that since the first bin starts at zero and the first possible draw value starts at 1\n",
    "# try changing include_lowest to True and note what that does to the buckets below....\n",
    "df.head(10)\n",
    "print(df.sort_values('var'))"
   ]
  },
  {
   "cell_type": "markdown",
   "metadata": {},
   "source": [
    "##### Note that `cut` defines intervals that are \"open\"-- do not include the endpoint-- on the left-side and \"closed\" ---include the endpoint-- on the right-hand side. Open = `(`, closed = `]`.\n",
    "\n",
    "###### This could be viewed as reversing the convention generally adopted in indexing and slicing the dataframe itself-- that the left end of an indexing range is included, but the right end is excluded (i.e., only includes the last element in the range before the range end itself). \n",
    "\n",
    "###### (See the code a few cells up that used Numpy's `arange` function to create the edges of the bins? I had to go back and manually reset the last value in the list I created to get a bin that ended with the inclusive upper bound, 100)"
   ]
  },
  {
   "cell_type": "code",
   "execution_count": 56,
   "metadata": {},
   "outputs": [
    {
     "data": {
      "text/html": [
       "<div>\n",
       "<style scoped>\n",
       "    .dataframe tbody tr th:only-of-type {\n",
       "        vertical-align: middle;\n",
       "    }\n",
       "\n",
       "    .dataframe tbody tr th {\n",
       "        vertical-align: top;\n",
       "    }\n",
       "\n",
       "    .dataframe thead th {\n",
       "        text-align: right;\n",
       "    }\n",
       "</style>\n",
       "<table border=\"1\" class=\"dataframe\">\n",
       "  <thead>\n",
       "    <tr style=\"text-align: right;\">\n",
       "      <th>time_period</th>\n",
       "      <th>0</th>\n",
       "      <th>1</th>\n",
       "      <th>All</th>\n",
       "    </tr>\n",
       "    <tr>\n",
       "      <th>buckets</th>\n",
       "      <th></th>\n",
       "      <th></th>\n",
       "      <th></th>\n",
       "    </tr>\n",
       "  </thead>\n",
       "  <tbody>\n",
       "    <tr>\n",
       "      <th>(0, 5]</th>\n",
       "      <td>0</td>\n",
       "      <td>2</td>\n",
       "      <td>2</td>\n",
       "    </tr>\n",
       "    <tr>\n",
       "      <th>(5, 10]</th>\n",
       "      <td>4</td>\n",
       "      <td>5</td>\n",
       "      <td>9</td>\n",
       "    </tr>\n",
       "    <tr>\n",
       "      <th>(10, 15]</th>\n",
       "      <td>1</td>\n",
       "      <td>1</td>\n",
       "      <td>2</td>\n",
       "    </tr>\n",
       "    <tr>\n",
       "      <th>(15, 20]</th>\n",
       "      <td>5</td>\n",
       "      <td>1</td>\n",
       "      <td>6</td>\n",
       "    </tr>\n",
       "    <tr>\n",
       "      <th>(20, 25]</th>\n",
       "      <td>4</td>\n",
       "      <td>1</td>\n",
       "      <td>5</td>\n",
       "    </tr>\n",
       "    <tr>\n",
       "      <th>(25, 30]</th>\n",
       "      <td>4</td>\n",
       "      <td>3</td>\n",
       "      <td>7</td>\n",
       "    </tr>\n",
       "    <tr>\n",
       "      <th>(30, 35]</th>\n",
       "      <td>2</td>\n",
       "      <td>2</td>\n",
       "      <td>4</td>\n",
       "    </tr>\n",
       "    <tr>\n",
       "      <th>(35, 40]</th>\n",
       "      <td>2</td>\n",
       "      <td>3</td>\n",
       "      <td>5</td>\n",
       "    </tr>\n",
       "    <tr>\n",
       "      <th>(40, 45]</th>\n",
       "      <td>2</td>\n",
       "      <td>4</td>\n",
       "      <td>6</td>\n",
       "    </tr>\n",
       "    <tr>\n",
       "      <th>(45, 50]</th>\n",
       "      <td>4</td>\n",
       "      <td>1</td>\n",
       "      <td>5</td>\n",
       "    </tr>\n",
       "    <tr>\n",
       "      <th>(50, 55]</th>\n",
       "      <td>2</td>\n",
       "      <td>5</td>\n",
       "      <td>7</td>\n",
       "    </tr>\n",
       "    <tr>\n",
       "      <th>(55, 60]</th>\n",
       "      <td>1</td>\n",
       "      <td>1</td>\n",
       "      <td>2</td>\n",
       "    </tr>\n",
       "    <tr>\n",
       "      <th>(60, 65]</th>\n",
       "      <td>0</td>\n",
       "      <td>6</td>\n",
       "      <td>6</td>\n",
       "    </tr>\n",
       "    <tr>\n",
       "      <th>(65, 70]</th>\n",
       "      <td>3</td>\n",
       "      <td>1</td>\n",
       "      <td>4</td>\n",
       "    </tr>\n",
       "    <tr>\n",
       "      <th>(70, 75]</th>\n",
       "      <td>4</td>\n",
       "      <td>3</td>\n",
       "      <td>7</td>\n",
       "    </tr>\n",
       "    <tr>\n",
       "      <th>(75, 80]</th>\n",
       "      <td>1</td>\n",
       "      <td>4</td>\n",
       "      <td>5</td>\n",
       "    </tr>\n",
       "    <tr>\n",
       "      <th>(80, 85]</th>\n",
       "      <td>2</td>\n",
       "      <td>3</td>\n",
       "      <td>5</td>\n",
       "    </tr>\n",
       "    <tr>\n",
       "      <th>(85, 90]</th>\n",
       "      <td>2</td>\n",
       "      <td>1</td>\n",
       "      <td>3</td>\n",
       "    </tr>\n",
       "    <tr>\n",
       "      <th>(90, 95]</th>\n",
       "      <td>4</td>\n",
       "      <td>1</td>\n",
       "      <td>5</td>\n",
       "    </tr>\n",
       "    <tr>\n",
       "      <th>(95, 100]</th>\n",
       "      <td>3</td>\n",
       "      <td>2</td>\n",
       "      <td>5</td>\n",
       "    </tr>\n",
       "    <tr>\n",
       "      <th>All</th>\n",
       "      <td>50</td>\n",
       "      <td>50</td>\n",
       "      <td>100</td>\n",
       "    </tr>\n",
       "  </tbody>\n",
       "</table>\n",
       "</div>"
      ],
      "text/plain": [
       "time_period   0   1  All\n",
       "buckets                 \n",
       "(0, 5]        0   2    2\n",
       "(5, 10]       4   5    9\n",
       "(10, 15]      1   1    2\n",
       "(15, 20]      5   1    6\n",
       "(20, 25]      4   1    5\n",
       "(25, 30]      4   3    7\n",
       "(30, 35]      2   2    4\n",
       "(35, 40]      2   3    5\n",
       "(40, 45]      2   4    6\n",
       "(45, 50]      4   1    5\n",
       "(50, 55]      2   5    7\n",
       "(55, 60]      1   1    2\n",
       "(60, 65]      0   6    6\n",
       "(65, 70]      3   1    4\n",
       "(70, 75]      4   3    7\n",
       "(75, 80]      1   4    5\n",
       "(80, 85]      2   3    5\n",
       "(85, 90]      2   1    3\n",
       "(90, 95]      4   1    5\n",
       "(95, 100]     3   2    5\n",
       "All          50  50  100"
      ]
     },
     "execution_count": 56,
     "metadata": {},
     "output_type": "execute_result"
    }
   ],
   "source": [
    "# create crosstab of bucket value vs number of observations in each bucket\n",
    "# Note that this gives you absolute number of observations in each bucket\n",
    "xtab=pd.crosstab(df.buckets,df.time_period,margins=True)\n",
    "xtab"
   ]
  },
  {
   "cell_type": "code",
   "execution_count": 57,
   "metadata": {},
   "outputs": [
    {
     "data": {
      "text/html": [
       "<div>\n",
       "<style scoped>\n",
       "    .dataframe tbody tr th:only-of-type {\n",
       "        vertical-align: middle;\n",
       "    }\n",
       "\n",
       "    .dataframe tbody tr th {\n",
       "        vertical-align: top;\n",
       "    }\n",
       "\n",
       "    .dataframe thead th {\n",
       "        text-align: right;\n",
       "    }\n",
       "</style>\n",
       "<table border=\"1\" class=\"dataframe\">\n",
       "  <thead>\n",
       "    <tr style=\"text-align: right;\">\n",
       "      <th>time_period</th>\n",
       "      <th>0</th>\n",
       "      <th>1</th>\n",
       "      <th>All</th>\n",
       "    </tr>\n",
       "    <tr>\n",
       "      <th>buckets</th>\n",
       "      <th></th>\n",
       "      <th></th>\n",
       "      <th></th>\n",
       "    </tr>\n",
       "  </thead>\n",
       "  <tbody>\n",
       "    <tr>\n",
       "      <th>(0, 5]</th>\n",
       "      <td>0.00</td>\n",
       "      <td>0.02</td>\n",
       "      <td>0.02</td>\n",
       "    </tr>\n",
       "    <tr>\n",
       "      <th>(5, 10]</th>\n",
       "      <td>0.04</td>\n",
       "      <td>0.05</td>\n",
       "      <td>0.09</td>\n",
       "    </tr>\n",
       "    <tr>\n",
       "      <th>(10, 15]</th>\n",
       "      <td>0.01</td>\n",
       "      <td>0.01</td>\n",
       "      <td>0.02</td>\n",
       "    </tr>\n",
       "    <tr>\n",
       "      <th>(15, 20]</th>\n",
       "      <td>0.05</td>\n",
       "      <td>0.01</td>\n",
       "      <td>0.06</td>\n",
       "    </tr>\n",
       "    <tr>\n",
       "      <th>(20, 25]</th>\n",
       "      <td>0.04</td>\n",
       "      <td>0.01</td>\n",
       "      <td>0.05</td>\n",
       "    </tr>\n",
       "    <tr>\n",
       "      <th>(25, 30]</th>\n",
       "      <td>0.04</td>\n",
       "      <td>0.03</td>\n",
       "      <td>0.07</td>\n",
       "    </tr>\n",
       "    <tr>\n",
       "      <th>(30, 35]</th>\n",
       "      <td>0.02</td>\n",
       "      <td>0.02</td>\n",
       "      <td>0.04</td>\n",
       "    </tr>\n",
       "    <tr>\n",
       "      <th>(35, 40]</th>\n",
       "      <td>0.02</td>\n",
       "      <td>0.03</td>\n",
       "      <td>0.05</td>\n",
       "    </tr>\n",
       "    <tr>\n",
       "      <th>(40, 45]</th>\n",
       "      <td>0.02</td>\n",
       "      <td>0.04</td>\n",
       "      <td>0.06</td>\n",
       "    </tr>\n",
       "    <tr>\n",
       "      <th>(45, 50]</th>\n",
       "      <td>0.04</td>\n",
       "      <td>0.01</td>\n",
       "      <td>0.05</td>\n",
       "    </tr>\n",
       "    <tr>\n",
       "      <th>(50, 55]</th>\n",
       "      <td>0.02</td>\n",
       "      <td>0.05</td>\n",
       "      <td>0.07</td>\n",
       "    </tr>\n",
       "    <tr>\n",
       "      <th>(55, 60]</th>\n",
       "      <td>0.01</td>\n",
       "      <td>0.01</td>\n",
       "      <td>0.02</td>\n",
       "    </tr>\n",
       "    <tr>\n",
       "      <th>(60, 65]</th>\n",
       "      <td>0.00</td>\n",
       "      <td>0.06</td>\n",
       "      <td>0.06</td>\n",
       "    </tr>\n",
       "    <tr>\n",
       "      <th>(65, 70]</th>\n",
       "      <td>0.03</td>\n",
       "      <td>0.01</td>\n",
       "      <td>0.04</td>\n",
       "    </tr>\n",
       "    <tr>\n",
       "      <th>(70, 75]</th>\n",
       "      <td>0.04</td>\n",
       "      <td>0.03</td>\n",
       "      <td>0.07</td>\n",
       "    </tr>\n",
       "    <tr>\n",
       "      <th>(75, 80]</th>\n",
       "      <td>0.01</td>\n",
       "      <td>0.04</td>\n",
       "      <td>0.05</td>\n",
       "    </tr>\n",
       "    <tr>\n",
       "      <th>(80, 85]</th>\n",
       "      <td>0.02</td>\n",
       "      <td>0.03</td>\n",
       "      <td>0.05</td>\n",
       "    </tr>\n",
       "    <tr>\n",
       "      <th>(85, 90]</th>\n",
       "      <td>0.02</td>\n",
       "      <td>0.01</td>\n",
       "      <td>0.03</td>\n",
       "    </tr>\n",
       "    <tr>\n",
       "      <th>(90, 95]</th>\n",
       "      <td>0.04</td>\n",
       "      <td>0.01</td>\n",
       "      <td>0.05</td>\n",
       "    </tr>\n",
       "    <tr>\n",
       "      <th>(95, 100]</th>\n",
       "      <td>0.03</td>\n",
       "      <td>0.02</td>\n",
       "      <td>0.05</td>\n",
       "    </tr>\n",
       "    <tr>\n",
       "      <th>All</th>\n",
       "      <td>0.50</td>\n",
       "      <td>0.50</td>\n",
       "      <td>1.00</td>\n",
       "    </tr>\n",
       "  </tbody>\n",
       "</table>\n",
       "</div>"
      ],
      "text/plain": [
       "time_period     0     1   All\n",
       "buckets                      \n",
       "(0, 5]       0.00  0.02  0.02\n",
       "(5, 10]      0.04  0.05  0.09\n",
       "(10, 15]     0.01  0.01  0.02\n",
       "(15, 20]     0.05  0.01  0.06\n",
       "(20, 25]     0.04  0.01  0.05\n",
       "(25, 30]     0.04  0.03  0.07\n",
       "(30, 35]     0.02  0.02  0.04\n",
       "(35, 40]     0.02  0.03  0.05\n",
       "(40, 45]     0.02  0.04  0.06\n",
       "(45, 50]     0.04  0.01  0.05\n",
       "(50, 55]     0.02  0.05  0.07\n",
       "(55, 60]     0.01  0.01  0.02\n",
       "(60, 65]     0.00  0.06  0.06\n",
       "(65, 70]     0.03  0.01  0.04\n",
       "(70, 75]     0.04  0.03  0.07\n",
       "(75, 80]     0.01  0.04  0.05\n",
       "(80, 85]     0.02  0.03  0.05\n",
       "(85, 90]     0.02  0.01  0.03\n",
       "(90, 95]     0.04  0.01  0.05\n",
       "(95, 100]    0.03  0.02  0.05\n",
       "All          0.50  0.50  1.00"
      ]
     },
     "execution_count": 57,
     "metadata": {},
     "output_type": "execute_result"
    }
   ],
   "source": [
    "# if we wanted a version of this table that gave fractions of the entire population in each bucket, \n",
    "# we could have said:\n",
    "ptab=pd.crosstab(df.buckets,df.time_period,margins=True,normalize=True)\n",
    "ptab"
   ]
  },
  {
   "cell_type": "code",
   "execution_count": 58,
   "metadata": {},
   "outputs": [
    {
     "data": {
      "text/plain": [
       "time_0      int64\n",
       "time_1      int64\n",
       "time_all    int64\n",
       "dtype: object"
      ]
     },
     "execution_count": 58,
     "metadata": {},
     "output_type": "execute_result"
    }
   ],
   "source": [
    "xtab.columns=['time_0','time_1','time_all'] # rename columns\n",
    "xtab.dtypes"
   ]
  },
  {
   "cell_type": "code",
   "execution_count": 59,
   "metadata": {},
   "outputs": [
    {
     "name": "stdout",
     "output_type": "stream",
     "text": [
      "           time_0  time_1  time_all\n",
      "buckets                            \n",
      "(0, 5]          0       2         2\n",
      "(5, 10]         4       5         9\n",
      "(10, 15]        1       1         2\n",
      "(15, 20]        5       1         6\n",
      "(20, 25]        4       1         5\n",
      "(25, 30]        4       3         7\n",
      "(30, 35]        2       2         4\n",
      "(35, 40]        2       3         5\n",
      "(40, 45]        2       4         6\n",
      "(45, 50]        4       1         5\n",
      "(50, 55]        2       5         7\n",
      "(55, 60]        1       1         2\n",
      "(60, 65]        0       6         6\n",
      "(65, 70]        3       1         4\n",
      "(70, 75]        4       3         7\n",
      "(75, 80]        1       4         5\n",
      "(80, 85]        2       3         5\n",
      "(85, 90]        2       1         3\n",
      "(90, 95]        4       1         5\n",
      "(95, 100]       3       2         5\n",
      "All            50      50       100\n"
     ]
    }
   ],
   "source": [
    "print(xtab)"
   ]
  },
  {
   "cell_type": "code",
   "execution_count": 60,
   "metadata": {},
   "outputs": [
    {
     "data": {
      "text/plain": [
       "''"
      ]
     },
     "execution_count": 60,
     "metadata": {},
     "output_type": "execute_result"
    },
    {
     "data": {
      "image/png": "[encoded data removed]",
      "text/plain": [
       "<Figure size 432x288 with 1 Axes>"
      ]
     },
     "metadata": {
      "needs_background": "light"
     },
     "output_type": "display_data"
    }
   ],
   "source": [
    "# plot bar plot of your bucket numbers\n",
    "# drop last row for plot, since we want both time periods as separate bars & don't want sum of buckets on chart\n",
    "ytab=xtab.iloc[:-1,:-1] # get rid of both margins row and margins column\n",
    "# use head method on ytab dataframe to see what this did\n",
    "ytab.plot(kind='bar',edgecolor='k')\n",
    "# you can do all this exploiting fact that output from crosstab method is a new dataframe\n",
    ";"
   ]
  },
  {
   "cell_type": "code",
   "execution_count": 61,
   "metadata": {},
   "outputs": [
    {
     "data": {
      "text/plain": [
       "''"
      ]
     },
     "execution_count": 61,
     "metadata": {},
     "output_type": "execute_result"
    },
    {
     "data": {
      "image/png": "[encoded data removed]",
      "text/plain": [
       "<Figure size 864x648 with 1 Axes>"
      ]
     },
     "metadata": {
      "needs_background": "light"
     },
     "output_type": "display_data"
    }
   ],
   "source": [
    "# slightly modify so you can change legend, make plot bigger\n",
    "ytab.plot(y=['time_0','time_1'],kind='bar',edgecolor='k',figsize=(12,9)) # y= list unnecessary, could drop\n",
    ";"
   ]
  },
  {
   "cell_type": "code",
   "execution_count": 62,
   "metadata": {},
   "outputs": [
    {
     "data": {
      "text/html": [
       "<div>\n",
       "<style scoped>\n",
       "    .dataframe tbody tr th:only-of-type {\n",
       "        vertical-align: middle;\n",
       "    }\n",
       "\n",
       "    .dataframe tbody tr th {\n",
       "        vertical-align: top;\n",
       "    }\n",
       "\n",
       "    .dataframe thead th {\n",
       "        text-align: right;\n",
       "    }\n",
       "</style>\n",
       "<table border=\"1\" class=\"dataframe\">\n",
       "  <thead>\n",
       "    <tr style=\"text-align: right;\">\n",
       "      <th></th>\n",
       "      <th>time_0</th>\n",
       "      <th>time_1</th>\n",
       "      <th>time_all</th>\n",
       "    </tr>\n",
       "    <tr>\n",
       "      <th>buckets</th>\n",
       "      <th></th>\n",
       "      <th></th>\n",
       "      <th></th>\n",
       "    </tr>\n",
       "  </thead>\n",
       "  <tbody>\n",
       "    <tr>\n",
       "      <th>(0, 5]</th>\n",
       "      <td>0.00</td>\n",
       "      <td>0.02</td>\n",
       "      <td>0.02</td>\n",
       "    </tr>\n",
       "    <tr>\n",
       "      <th>(5, 10]</th>\n",
       "      <td>0.04</td>\n",
       "      <td>0.05</td>\n",
       "      <td>0.09</td>\n",
       "    </tr>\n",
       "    <tr>\n",
       "      <th>(10, 15]</th>\n",
       "      <td>0.01</td>\n",
       "      <td>0.01</td>\n",
       "      <td>0.02</td>\n",
       "    </tr>\n",
       "    <tr>\n",
       "      <th>(15, 20]</th>\n",
       "      <td>0.05</td>\n",
       "      <td>0.01</td>\n",
       "      <td>0.06</td>\n",
       "    </tr>\n",
       "    <tr>\n",
       "      <th>(20, 25]</th>\n",
       "      <td>0.04</td>\n",
       "      <td>0.01</td>\n",
       "      <td>0.05</td>\n",
       "    </tr>\n",
       "    <tr>\n",
       "      <th>(25, 30]</th>\n",
       "      <td>0.04</td>\n",
       "      <td>0.03</td>\n",
       "      <td>0.07</td>\n",
       "    </tr>\n",
       "    <tr>\n",
       "      <th>(30, 35]</th>\n",
       "      <td>0.02</td>\n",
       "      <td>0.02</td>\n",
       "      <td>0.04</td>\n",
       "    </tr>\n",
       "    <tr>\n",
       "      <th>(35, 40]</th>\n",
       "      <td>0.02</td>\n",
       "      <td>0.03</td>\n",
       "      <td>0.05</td>\n",
       "    </tr>\n",
       "    <tr>\n",
       "      <th>(40, 45]</th>\n",
       "      <td>0.02</td>\n",
       "      <td>0.04</td>\n",
       "      <td>0.06</td>\n",
       "    </tr>\n",
       "    <tr>\n",
       "      <th>(45, 50]</th>\n",
       "      <td>0.04</td>\n",
       "      <td>0.01</td>\n",
       "      <td>0.05</td>\n",
       "    </tr>\n",
       "    <tr>\n",
       "      <th>(50, 55]</th>\n",
       "      <td>0.02</td>\n",
       "      <td>0.05</td>\n",
       "      <td>0.07</td>\n",
       "    </tr>\n",
       "    <tr>\n",
       "      <th>(55, 60]</th>\n",
       "      <td>0.01</td>\n",
       "      <td>0.01</td>\n",
       "      <td>0.02</td>\n",
       "    </tr>\n",
       "    <tr>\n",
       "      <th>(60, 65]</th>\n",
       "      <td>0.00</td>\n",
       "      <td>0.06</td>\n",
       "      <td>0.06</td>\n",
       "    </tr>\n",
       "    <tr>\n",
       "      <th>(65, 70]</th>\n",
       "      <td>0.03</td>\n",
       "      <td>0.01</td>\n",
       "      <td>0.04</td>\n",
       "    </tr>\n",
       "    <tr>\n",
       "      <th>(70, 75]</th>\n",
       "      <td>0.04</td>\n",
       "      <td>0.03</td>\n",
       "      <td>0.07</td>\n",
       "    </tr>\n",
       "    <tr>\n",
       "      <th>(75, 80]</th>\n",
       "      <td>0.01</td>\n",
       "      <td>0.04</td>\n",
       "      <td>0.05</td>\n",
       "    </tr>\n",
       "    <tr>\n",
       "      <th>(80, 85]</th>\n",
       "      <td>0.02</td>\n",
       "      <td>0.03</td>\n",
       "      <td>0.05</td>\n",
       "    </tr>\n",
       "    <tr>\n",
       "      <th>(85, 90]</th>\n",
       "      <td>0.02</td>\n",
       "      <td>0.01</td>\n",
       "      <td>0.03</td>\n",
       "    </tr>\n",
       "    <tr>\n",
       "      <th>(90, 95]</th>\n",
       "      <td>0.04</td>\n",
       "      <td>0.01</td>\n",
       "      <td>0.05</td>\n",
       "    </tr>\n",
       "    <tr>\n",
       "      <th>(95, 100]</th>\n",
       "      <td>0.03</td>\n",
       "      <td>0.02</td>\n",
       "      <td>0.05</td>\n",
       "    </tr>\n",
       "    <tr>\n",
       "      <th>All</th>\n",
       "      <td>0.50</td>\n",
       "      <td>0.50</td>\n",
       "      <td>1.00</td>\n",
       "    </tr>\n",
       "  </tbody>\n",
       "</table>\n",
       "</div>"
      ],
      "text/plain": [
       "           time_0  time_1  time_all\n",
       "buckets                            \n",
       "(0, 5]       0.00    0.02      0.02\n",
       "(5, 10]      0.04    0.05      0.09\n",
       "(10, 15]     0.01    0.01      0.02\n",
       "(15, 20]     0.05    0.01      0.06\n",
       "(20, 25]     0.04    0.01      0.05\n",
       "(25, 30]     0.04    0.03      0.07\n",
       "(30, 35]     0.02    0.02      0.04\n",
       "(35, 40]     0.02    0.03      0.05\n",
       "(40, 45]     0.02    0.04      0.06\n",
       "(45, 50]     0.04    0.01      0.05\n",
       "(50, 55]     0.02    0.05      0.07\n",
       "(55, 60]     0.01    0.01      0.02\n",
       "(60, 65]     0.00    0.06      0.06\n",
       "(65, 70]     0.03    0.01      0.04\n",
       "(70, 75]     0.04    0.03      0.07\n",
       "(75, 80]     0.01    0.04      0.05\n",
       "(80, 85]     0.02    0.03      0.05\n",
       "(85, 90]     0.02    0.01      0.03\n",
       "(90, 95]     0.04    0.01      0.05\n",
       "(95, 100]    0.03    0.02      0.05\n",
       "All          0.50    0.50      1.00"
      ]
     },
     "execution_count": 62,
     "metadata": {},
     "output_type": "execute_result"
    }
   ],
   "source": [
    "# Redo so shares of sample rather than absolute numbers in crosstab\n",
    "xtab2=pd.crosstab(df.buckets,df.time_period,margins=True,normalize=True)\n",
    "xtab2.columns=['time_0','time_1','time_all']\n",
    "xtab2"
   ]
  },
  {
   "cell_type": "code",
   "execution_count": 63,
   "metadata": {},
   "outputs": [
    {
     "data": {
      "image/png": "[encoded data removed]",
      "text/plain": [
       "<Figure size 576x432 with 1 Axes>"
      ]
     },
     "metadata": {
      "needs_background": "light"
     },
     "output_type": "display_data"
    }
   ],
   "source": [
    "fig, ax = plt.subplots(figsize=(8,6))\n",
    "ytab2=xtab2.iloc[:-1,:] # g0t rid of 'all' row \n",
    "ytab2.plot(y=['time_0','time_1'],kind='bar', ax=ax,edgecolor='k') # needed \"y=\" because I didn't drop 'All' column\n",
    "ax.set_title(\"share of obs\");"
   ]
  },
  {
   "cell_type": "markdown",
   "metadata": {},
   "source": [
    "What happens if we drop the `y=`  parameter from the plot method? Why? What did I do differently when creating xtab?"
   ]
  },
  {
   "cell_type": "markdown",
   "metadata": {},
   "source": [
    "# *********** Warning- this next section is optional! \n",
    "## skip if not interested in more complicated (IMHO) ways to do similar plot\n",
    "\n",
    "### Maybe slightly shorter code for the chart, but you don't get the frequency table thrown in, and would have to address separately"
   ]
  },
  {
   "cell_type": "code",
   "execution_count": 64,
   "metadata": {},
   "outputs": [
    {
     "data": {
      "text/plain": [
       "[1,\n",
       " 6,\n",
       " 11,\n",
       " 16,\n",
       " 21,\n",
       " 26,\n",
       " 31,\n",
       " 36,\n",
       " 41,\n",
       " 46,\n",
       " 51,\n",
       " 56,\n",
       " 61,\n",
       " 66,\n",
       " 71,\n",
       " 76,\n",
       " 81,\n",
       " 86,\n",
       " 91,\n",
       " 96,\n",
       " 100]"
      ]
     },
     "execution_count": 64,
     "metadata": {},
     "output_type": "execute_result"
    }
   ],
   "source": [
    "#Another way to do same plot, based on original dataframe without using crosstab to create frequency table\n",
    "binrange=list(range(1,102,5))\n",
    "binrange[-1]=100\n",
    "# need to do this because way matplotlib histogram handles bin range is different than python range function\n",
    "# see https://matplotlib.org/api/_as_gen/matplotlib.axes.Axes.hist.html\n",
    "# plt.hist use bin edge lists to creates bins that are open on the right and closed on the left!\n",
    "# but then gives you optional parameters to include the \n",
    "# I think! ... let's check...\n",
    "binrange ## see how Numpy handled my range and why I modified it"
   ]
  },
  {
   "cell_type": "markdown",
   "metadata": {},
   "source": [
    "[Link to matplotlib hist method documentation](https://matplotlib.org/api/_as_gen/matplotlib.axes.Axes.hist.html)\n",
    "\n",
    "\"If ***bins*** is a sequence, it defines the bin edges, including the left edge of the first bin and the right edge of the last bin; in this case, bins may be unequally spaced. All but the last (righthand-most) bin is half-open. In other words, if bins is:\n",
    "\n",
    "[1, 2, 3, 4]\n",
    "\n",
    "\n",
    "then the first bin is [1, 2) (including 1, but excluding 2) and the second [2, 3). The last bin, however, is [3, 4], which includes 4.\"\n",
    "\n",
    "* in short, matplotlib hist method uses bin range definition similar to Python indexing/slicing, modified for last bin only\n",
    "* reverses bin definitions used in cut/bar plot combo\n",
    "* I find the cut/bar plot combo to be easier to understand when trying to interpret a histogram"
   ]
  },
  {
   "cell_type": "code",
   "execution_count": 65,
   "metadata": {},
   "outputs": [
    {
     "data": {
      "image/png": "[encoded data removed]",
      "text/plain": [
       "<Figure size 864x648 with 1 Axes>"
      ]
     },
     "metadata": {
      "needs_background": "light"
     },
     "output_type": "display_data"
    }
   ],
   "source": [
    "#Another way to do same plot, based on original dataframe without using crosstab\n",
    "# Now let matplotlib's histogram method do the binning\n",
    "\n",
    "fig, ax = plt.subplots(figsize=(12,9))\n",
    "ax.hist(x=[df.loc[df['time_period']==0,'var'],df.loc[df['time_period']==1,'var']], \n",
    "        bins=binrange, edgecolor=\"k\")\n",
    "ax.set_xticks(binrange)\n",
    "ax.tick_params(labelsize='small');"
   ]
  },
  {
   "cell_type": "markdown",
   "metadata": {},
   "source": [
    "### Digression ends here"
   ]
  },
  {
   "cell_type": "markdown",
   "metadata": {},
   "source": [
    "## Now, figure out the decile boundaries:\n",
    "### Pandas `quantile` method solves the problem"
   ]
  },
  {
   "cell_type": "code",
   "execution_count": 66,
   "metadata": {},
   "outputs": [
    {
     "name": "stdout",
     "output_type": "stream",
     "text": [
      "3rd decile/.3 quantile/30th percentile in sample ends at 28.7\n",
      "7th decile/.7 quantile/70th percentile in sample ends at 71.0\n"
     ]
    },
    {
     "data": {
      "text/plain": [
       "(28.7, 71.0)"
      ]
     },
     "execution_count": 66,
     "metadata": {},
     "output_type": "execute_result"
    }
   ],
   "source": [
    "# determine 3rd and 7th deciles (quantiles) of distribution of var in time 0\n",
    "print('3rd decile/.3 quantile/30th percentile in sample ends at',df.loc[df['time_period']==0,'var'].quantile(.3))\n",
    "print('7th decile/.7 quantile/70th percentile in sample ends at',df.loc[df['time_period']==0,'var'].quantile(.7))\n",
    "q3,q7=df.loc[df['time_period']==0,'var'].quantile([.3,.7])\n",
    "#q7=df.loc[df['time_period']==0,'var'].quantile(.7)\n",
    "q3,q7"
   ]
  },
  {
   "cell_type": "code",
   "execution_count": 67,
   "metadata": {},
   "outputs": [
    {
     "data": {
      "text/html": [
       "<div>\n",
       "<style scoped>\n",
       "    .dataframe tbody tr th:only-of-type {\n",
       "        vertical-align: middle;\n",
       "    }\n",
       "\n",
       "    .dataframe tbody tr th {\n",
       "        vertical-align: top;\n",
       "    }\n",
       "\n",
       "    .dataframe thead th {\n",
       "        text-align: right;\n",
       "    }\n",
       "</style>\n",
       "<table border=\"1\" class=\"dataframe\">\n",
       "  <thead>\n",
       "    <tr style=\"text-align: right;\">\n",
       "      <th>big</th>\n",
       "      <th>False</th>\n",
       "      <th>True</th>\n",
       "    </tr>\n",
       "    <tr>\n",
       "      <th>small</th>\n",
       "      <th></th>\n",
       "      <th></th>\n",
       "    </tr>\n",
       "  </thead>\n",
       "  <tbody>\n",
       "    <tr>\n",
       "      <th>False</th>\n",
       "      <td>0.50</td>\n",
       "      <td>0.26</td>\n",
       "    </tr>\n",
       "    <tr>\n",
       "      <th>True</th>\n",
       "      <td>0.24</td>\n",
       "      <td>0.00</td>\n",
       "    </tr>\n",
       "  </tbody>\n",
       "</table>\n",
       "</div>"
      ],
      "text/plain": [
       "big    False  True \n",
       "small              \n",
       "False   0.50   0.26\n",
       "True    0.24   0.00"
      ]
     },
     "execution_count": 67,
     "metadata": {},
     "output_type": "execute_result"
    }
   ],
   "source": [
    "#Now use crosstab to determine shares of sample in time 1 below 28.7, above 71\n",
    "# first create dummy variables for being in the time_0 30% tails of distribution\n",
    "df['small']=0\n",
    "df['small']= (df.loc[:,'var']<q3)\n",
    "df['big']=0 \n",
    "df['big']= (df.loc[:,'var']>q7) \n",
    "\n",
    "xtab4=pd.crosstab(df.loc[df['time_period']==1,'small'],df.loc[df['time_period']==1,'big'],normalize=True)\n",
    "xtab4"
   ]
  },
  {
   "cell_type": "markdown",
   "metadata": {},
   "source": [
    "Looks like 50% of probability distribution at time_1 in tails that accounted for ~60% distribution in time_0, even though data generating process did not change over time.\n",
    "\n",
    "Result of random sampling error and a fairly small sample.\n",
    "\n",
    "* *optional exercise:* go back and increase sample size from 100 to 1000 and see if this shrinks the discrepancy between time 0 and 1 distribution tail sizes...\n"
   ]
  },
  {
   "cell_type": "code",
   "execution_count": null,
   "metadata": {},
   "outputs": [],
   "source": []
  },
  {
   "cell_type": "code",
   "execution_count": 68,
   "metadata": {},
   "outputs": [
    {
     "data": {
      "text/html": [
       "<div>\n",
       "<style scoped>\n",
       "    .dataframe tbody tr th:only-of-type {\n",
       "        vertical-align: middle;\n",
       "    }\n",
       "\n",
       "    .dataframe tbody tr th {\n",
       "        vertical-align: top;\n",
       "    }\n",
       "\n",
       "    .dataframe thead th {\n",
       "        text-align: right;\n",
       "    }\n",
       "</style>\n",
       "<table border=\"1\" class=\"dataframe\">\n",
       "  <thead>\n",
       "    <tr style=\"text-align: right;\">\n",
       "      <th>big</th>\n",
       "      <th>False</th>\n",
       "      <th>True</th>\n",
       "    </tr>\n",
       "    <tr>\n",
       "      <th>small</th>\n",
       "      <th></th>\n",
       "      <th></th>\n",
       "    </tr>\n",
       "  </thead>\n",
       "  <tbody>\n",
       "    <tr>\n",
       "      <th>False</th>\n",
       "      <td>0.42</td>\n",
       "      <td>0.28</td>\n",
       "    </tr>\n",
       "    <tr>\n",
       "      <th>True</th>\n",
       "      <td>0.30</td>\n",
       "      <td>0.00</td>\n",
       "    </tr>\n",
       "  </tbody>\n",
       "</table>\n",
       "</div>"
      ],
      "text/plain": [
       "big    False  True \n",
       "small              \n",
       "False   0.42   0.28\n",
       "True    0.30   0.00"
      ]
     },
     "execution_count": 68,
     "metadata": {},
     "output_type": "execute_result"
    }
   ],
   "source": [
    "# same breakdown during time 0\n",
    "xtab3=pd.crosstab(df.loc[df['time_period']==0,'small'],df.loc[df['time_period']==0,'big'],normalize=True)\n",
    "xtab3"
   ]
  },
  {
   "cell_type": "markdown",
   "metadata": {},
   "source": [
    "In period in which 30% and 70% percentile values defined, sum of 30% tail probabilities in sample are pretty close to 60% (58%)\n",
    "\n",
    "* *optional exercise:* go back and increase sample size from 100 to 1000 and see if this shrinks the discrepancy between time 0 and 1 distribution tail sizes...\n",
    "\n",
    "Explanation why percentiles for an integer variable are reported as a non-integer number:\n",
    "\n",
    "\"A percentile is the point in a distribution at or below which a given percentage of scores is found when using actual scores, vs exact‐limit interval scores. But, using actual scores means that only certain % values can be provided – based upon the exact number of frequencies observed for each score. So, there can be no 75th percentile for our observed frequency distribution – only a 74.26th  or 79.34th percentile. Whereas, if we invoke the “scores are sampled from a hypothetical\n",
    "distribution of real‐valued, continuous scores, we can compute exact percentiles – and express our scores accordingly.\"\n",
    "\n",
    "In that case, you can choose what interpolation method to use when calculating the value of the decile/quantile/percentile. See the Pandas documentation for 'quantile'. The default is linear interpolation between upper and lower limits."
   ]
  },
  {
   "cell_type": "code",
   "execution_count": null,
   "metadata": {},
   "outputs": [],
   "source": []
  }
 ],
 "metadata": {
  "kernelspec": {
   "display_name": "Python 3",
   "language": "python",
   "name": "python3"
  },
  "language_info": {
   "codemirror_mode": {
    "name": "ipython",
    "version": 3
   },
   "file_extension": ".py",
   "mimetype": "text/x-python",
   "name": "python",
   "nbconvert_exporter": "python",
   "pygments_lexer": "ipython3",
   "version": "3.7.6"
  }
 },
 "nbformat": 4,
 "nbformat_minor": 4
}
